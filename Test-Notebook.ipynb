{
 "cells": [
  {
   "cell_type": "markdown",
   "metadata": {},
   "source": [
    "# Trending.py Ver 0.1"
   ]
  },
  {
   "cell_type": "markdown",
   "metadata": {},
   "source": [
    "network of words built around an input word based on their trending status on Google Trends via the unoffical open source API pytrends"
   ]
  },
  {
   "cell_type": "markdown",
   "metadata": {
    "heading_collapsed": true
   },
   "source": [
    "## Imports"
   ]
  },
  {
   "cell_type": "code",
   "execution_count": 2,
   "metadata": {
    "hidden": true
   },
   "outputs": [],
   "source": [
    "import pandas as pd                        \n",
    "from pytrends.request import TrendReq\n",
    "import plotly.express as px\n",
    "from scipy.signal import savgol_filter\n",
    "from plotly.subplots import make_subplots\n",
    "import plotly.graph_objects as go\n",
    "import math\n",
    "from random import shuffle"
   ]
  },
  {
   "cell_type": "markdown",
   "metadata": {
    "heading_collapsed": true
   },
   "source": [
    "## Set Up Connection to Google Trends"
   ]
  },
  {
   "cell_type": "code",
   "execution_count": 3,
   "metadata": {
    "hidden": true
   },
   "outputs": [],
   "source": [
    "# set up connction to google trends\n",
    "# build a payload for a keyword, geo can be set via two letters for country (DE = Germany), or left blank ('') for worldwide\n",
    "def trend(keyword, geo, timeframe):\n",
    "    pytrend = TrendReq(hl='de')\n",
    "    pytrend.build_payload(kw_list=[keyword],geo=geo , timeframe =  timeframe)\n",
    "    \n",
    "    # return interest over time\n",
    "    trend.interest = pytrend.interest_over_time()\n",
    "    \n",
    "    # return related queries\n",
    "    related = pytrend.related_queries()\n",
    "    trend.related = related[keyword]\n",
    "    trend.related_top = trend.related['top']\n",
    "    trend.related_rising = trend.related['rising']\n",
    "    \n",
    "    # return categories this word belongs to -- this seems to not always 100% recreated google trend results/use carefully\n",
    "    trend.related_topics = pytrend.related_topics()[keyword]\n",
    "    trend.related_topics_top = trend.related_topics['top']  # topics are in english by default\n",
    "    trend.related_topics_rising = trend.related_topics['rising']\n",
    "    "
   ]
  },
  {
   "cell_type": "markdown",
   "metadata": {
    "heading_collapsed": true
   },
   "source": [
    "## Get Data"
   ]
  },
  {
   "cell_type": "markdown",
   "metadata": {
    "heading_collapsed": true,
    "hidden": true
   },
   "source": [
    "### Define search parameters"
   ]
  },
  {
   "cell_type": "code",
   "execution_count": 122,
   "metadata": {
    "hidden": true
   },
   "outputs": [],
   "source": [
    "searchterm = 'Data Science'\n",
    "language_region = 'DE'\n",
    "period = 'today 5-y'\n",
    "secondlevelcut = 10"
   ]
  },
  {
   "cell_type": "markdown",
   "metadata": {
    "heading_collapsed": true,
    "hidden": true
   },
   "source": [
    "### First level search related queries"
   ]
  },
  {
   "cell_type": "code",
   "execution_count": 125,
   "metadata": {
    "hidden": true
   },
   "outputs": [
    {
     "data": {
      "text/html": [
       "<div>\n",
       "<style scoped>\n",
       "    .dataframe tbody tr th:only-of-type {\n",
       "        vertical-align: middle;\n",
       "    }\n",
       "\n",
       "    .dataframe tbody tr th {\n",
       "        vertical-align: top;\n",
       "    }\n",
       "\n",
       "    .dataframe thead th {\n",
       "        text-align: right;\n",
       "    }\n",
       "</style>\n",
       "<table border=\"1\" class=\"dataframe\">\n",
       "  <thead>\n",
       "    <tr style=\"text-align: right;\">\n",
       "      <th></th>\n",
       "      <th>query</th>\n",
       "    </tr>\n",
       "  </thead>\n",
       "  <tbody>\n",
       "    <tr>\n",
       "      <th>0</th>\n",
       "      <td>python data science</td>\n",
       "    </tr>\n",
       "    <tr>\n",
       "      <th>1</th>\n",
       "      <td>master data science</td>\n",
       "    </tr>\n",
       "    <tr>\n",
       "      <th>2</th>\n",
       "      <td>data science jobs</td>\n",
       "    </tr>\n",
       "    <tr>\n",
       "      <th>3</th>\n",
       "      <td>data science studium</td>\n",
       "    </tr>\n",
       "    <tr>\n",
       "      <th>4</th>\n",
       "      <td>data scientist</td>\n",
       "    </tr>\n",
       "    <tr>\n",
       "      <th>5</th>\n",
       "      <td>data science gehalt</td>\n",
       "    </tr>\n",
       "    <tr>\n",
       "      <th>6</th>\n",
       "      <td>towards data science</td>\n",
       "    </tr>\n",
       "    <tr>\n",
       "      <th>7</th>\n",
       "      <td>r for data science</td>\n",
       "    </tr>\n",
       "  </tbody>\n",
       "</table>\n",
       "</div>"
      ],
      "text/plain": [
       "                  query\n",
       "0   python data science\n",
       "1   master data science\n",
       "2     data science jobs\n",
       "3  data science studium\n",
       "4        data scientist\n",
       "5   data science gehalt\n",
       "6  towards data science\n",
       "7    r for data science"
      ]
     },
     "execution_count": 125,
     "metadata": {},
     "output_type": "execute_result"
    }
   ],
   "source": [
    "#LEVEL 1 search, get related topics or queries to the initial searchterm\n",
    "trend(searchterm,language_region, period)\n",
    "#call different objects that you are interestet in, every object should return a dict or an dataframe\n",
    "df_trend_related_search_top = trend.related_top\n",
    "#drop value column\n",
    "df_trend_related_search_top = df_trend_related_search_top.drop(columns={\"value\"})\n",
    "df_trend_related_search_top"
   ]
  },
  {
   "cell_type": "markdown",
   "metadata": {
    "heading_collapsed": true,
    "hidden": true
   },
   "source": [
    "### Visualize found data"
   ]
  },
  {
   "cell_type": "code",
   "execution_count": 11,
   "metadata": {
    "hidden": true
   },
   "outputs": [],
   "source": [
    "def visualize_interest(df):\n",
    "    fig = px.line(df, x=df.index, y=savgol_filter(df.iloc[:,0],13,2), title=f'Interest in {df.columns[0]}')\n",
    "    fig['layout']['yaxis1'].update(title='', range=[0, 100], autorange=False)\n",
    "    fig.show()\n",
    "\n",
    "def visualize_related_queries(df):\n",
    "    fig = make_subplots(rows=1, cols=2)\n",
    "\n",
    "    fig.append_trace(go.Bar(\n",
    "        x=df['top']['query'],\n",
    "        y=df['top']['value'],\n",
    "        name='top'\n",
    "    ), row=1, col=1)\n",
    "\n",
    "    fig.append_trace(go.Bar(\n",
    "        x=df['rising']['query'],\n",
    "        y=df['rising']['value'],\n",
    "        name='rising'\n",
    "    ), row=1, col=2)\n",
    "\n",
    "    fig.update_layout(height=600, width=1000, title_text=\"related queries\")\n",
    "    fig.show()\n",
    "    \n",
    "def visualize_topics(df):\n",
    "    fig = make_subplots(rows=1, cols=2)\n",
    "\n",
    "    fig.append_trace(go.Bar(\n",
    "        x=df['top']['topic_title'],\n",
    "        y=df['top']['value'],\n",
    "        name='top'\n",
    "    ), row=1, col=1)\n",
    "\n",
    "    fig.append_trace(go.Bar(\n",
    "        x=df['rising']['topic_title'],\n",
    "        y=df['rising']['value'],\n",
    "        name='rising'\n",
    "    ), row=1, col=2)\n",
    "\n",
    "    fig.update_layout(height=800, width=1000, title_text=\"related topics\")\n",
    "    fig.show()  "
   ]
  },
  {
   "cell_type": "code",
   "execution_count": 135,
   "metadata": {
    "hidden": true
   },
   "outputs": [
    {
     "ename": "NameError",
     "evalue": "name 'visualize_interest' is not defined",
     "output_type": "error",
     "traceback": [
      "\u001b[1;31m---------------------------------------------------------------------------\u001b[0m",
      "\u001b[1;31mNameError\u001b[0m                                 Traceback (most recent call last)",
      "\u001b[1;32mC:\\Users\\CHRIST~1\\AppData\\Local\\Temp/ipykernel_13812/2170176609.py\u001b[0m in \u001b[0;36m<module>\u001b[1;34m\u001b[0m\n\u001b[1;32m----> 1\u001b[1;33m \u001b[0mvisualize_interest\u001b[0m\u001b[1;33m(\u001b[0m\u001b[0mtrend\u001b[0m\u001b[1;33m.\u001b[0m\u001b[0minterest\u001b[0m\u001b[1;33m)\u001b[0m\u001b[1;33m\u001b[0m\u001b[1;33m\u001b[0m\u001b[0m\n\u001b[0m\u001b[0;32m      2\u001b[0m \u001b[0mvisualize_related_queries\u001b[0m\u001b[1;33m(\u001b[0m\u001b[0mtrend\u001b[0m\u001b[1;33m.\u001b[0m\u001b[0mrelated\u001b[0m\u001b[1;33m)\u001b[0m\u001b[1;33m\u001b[0m\u001b[1;33m\u001b[0m\u001b[0m\n\u001b[0;32m      3\u001b[0m \u001b[0mvisualize_topics\u001b[0m\u001b[1;33m(\u001b[0m\u001b[0mtrend\u001b[0m\u001b[1;33m.\u001b[0m\u001b[0mrelated_topics\u001b[0m\u001b[1;33m)\u001b[0m\u001b[1;33m\u001b[0m\u001b[1;33m\u001b[0m\u001b[0m\n",
      "\u001b[1;31mNameError\u001b[0m: name 'visualize_interest' is not defined"
     ]
    }
   ],
   "source": [
    "visualize_interest(trend.interest)\n",
    "visualize_related_queries(trend.related)\n",
    "visualize_topics(trend.related_topics)"
   ]
  },
  {
   "cell_type": "markdown",
   "metadata": {
    "heading_collapsed": true,
    "hidden": true
   },
   "source": [
    "### Second level search related queries"
   ]
  },
  {
   "cell_type": "code",
   "execution_count": 126,
   "metadata": {
    "hidden": true
   },
   "outputs": [
    {
     "data": {
      "text/html": [
       "<div>\n",
       "<style scoped>\n",
       "    .dataframe tbody tr th:only-of-type {\n",
       "        vertical-align: middle;\n",
       "    }\n",
       "\n",
       "    .dataframe tbody tr th {\n",
       "        vertical-align: top;\n",
       "    }\n",
       "\n",
       "    .dataframe thead th {\n",
       "        text-align: right;\n",
       "    }\n",
       "</style>\n",
       "<table border=\"1\" class=\"dataframe\">\n",
       "  <thead>\n",
       "    <tr style=\"text-align: right;\">\n",
       "      <th></th>\n",
       "      <th>python data science</th>\n",
       "      <th>master data science</th>\n",
       "      <th>data science jobs</th>\n",
       "      <th>data science studium</th>\n",
       "      <th>data scientist</th>\n",
       "      <th>data science gehalt</th>\n",
       "      <th>towards data science</th>\n",
       "      <th>r for data science</th>\n",
       "    </tr>\n",
       "  </thead>\n",
       "  <tbody>\n",
       "    <tr>\n",
       "      <th>0</th>\n",
       "      <td>NaN</td>\n",
       "      <td>NaN</td>\n",
       "      <td>NaN</td>\n",
       "      <td>NaN</td>\n",
       "      <td>data scientist gehalt</td>\n",
       "      <td>NaN</td>\n",
       "      <td>NaN</td>\n",
       "      <td>NaN</td>\n",
       "    </tr>\n",
       "  </tbody>\n",
       "</table>\n",
       "</div>"
      ],
      "text/plain": [
       "   python data science  master data science  data science jobs  \\\n",
       "0                  NaN                  NaN                NaN   \n",
       "\n",
       "   data science studium         data scientist  data science gehalt  \\\n",
       "0                   NaN  data scientist gehalt                  NaN   \n",
       "\n",
       "   towards data science  r for data science  \n",
       "0                   NaN                 NaN  "
      ]
     },
     "execution_count": 126,
     "metadata": {},
     "output_type": "execute_result"
    }
   ],
   "source": [
    "#LEVEL 2 search, get related topics or queries from topics/queries related to the initial searchterm\n",
    "df_head = pd.DataFrame(df_trend_related_search_top)\n",
    "df_head = df_head.set_index(['query'])\n",
    "dict_out = {}\n",
    "\n",
    "#iterate over df and search every keyword\n",
    "for i in range(0,len(df_trend_related_search_top),1):\n",
    "    #rint(df_trend_related_search_top['query'][i])\n",
    "    searchstring = df_trend_related_search_top['query'][i]\n",
    "    \n",
    "    #start the search at Level 2\n",
    "    trend(searchstring,language_region, period)\n",
    "    #call different objects that you are interestet in, every object should return a dict or an dataframe\n",
    "    df_out_search_top = trend.related_top\n",
    "   \n",
    "    #if values found\n",
    "    if (df_out_search_top is not None):\n",
    "        values = df_out_search_top['query'].tolist()\n",
    "        dict_out[searchstring] = values\n",
    "\n",
    "#print(dict_out)\n",
    "\n",
    "#df which contains the top related search terms to the start term\n",
    "df_head = df_head.transpose()\n",
    "\n",
    "#df which contains the top related search terms to the top related search terms\n",
    "df_top_related = pd.DataFrame.from_dict(dict_out, orient='index')\n",
    "df_top_related = df_top_related.transpose()\n",
    "\n",
    "#output matrix\n",
    "df_result = pd.concat([df_head,df_top_related])\n",
    "df_result = df_result[:secondlevelcut]\n",
    "df_result"
   ]
  },
  {
   "cell_type": "markdown",
   "metadata": {
    "heading_collapsed": true,
    "hidden": true
   },
   "source": [
    "### First level search related topics"
   ]
  },
  {
   "cell_type": "code",
   "execution_count": 127,
   "metadata": {
    "hidden": true
   },
   "outputs": [
    {
     "data": {
      "text/html": [
       "<div>\n",
       "<style scoped>\n",
       "    .dataframe tbody tr th:only-of-type {\n",
       "        vertical-align: middle;\n",
       "    }\n",
       "\n",
       "    .dataframe tbody tr th {\n",
       "        vertical-align: top;\n",
       "    }\n",
       "\n",
       "    .dataframe thead th {\n",
       "        text-align: right;\n",
       "    }\n",
       "</style>\n",
       "<table border=\"1\" class=\"dataframe\">\n",
       "  <thead>\n",
       "    <tr style=\"text-align: right;\">\n",
       "      <th></th>\n",
       "      <th>formattedValue</th>\n",
       "      <th>hasData</th>\n",
       "      <th>link</th>\n",
       "      <th>topic_mid</th>\n",
       "      <th>topic_title</th>\n",
       "      <th>topic_type</th>\n",
       "    </tr>\n",
       "  </thead>\n",
       "  <tbody>\n",
       "    <tr>\n",
       "      <th>0</th>\n",
       "      <td>100</td>\n",
       "      <td>True</td>\n",
       "      <td>/trends/explore?q=/m/026sq&amp;date=today+5-y&amp;geo=DE</td>\n",
       "      <td>/m/026sq</td>\n",
       "      <td>Daten</td>\n",
       "      <td>Thema</td>\n",
       "    </tr>\n",
       "    <tr>\n",
       "      <th>1</th>\n",
       "      <td>96</td>\n",
       "      <td>True</td>\n",
       "      <td>/trends/explore?q=/m/06mq7&amp;date=today+5-y&amp;geo=DE</td>\n",
       "      <td>/m/06mq7</td>\n",
       "      <td>Wissenschaft</td>\n",
       "      <td>Thema</td>\n",
       "    </tr>\n",
       "    <tr>\n",
       "      <th>2</th>\n",
       "      <td>95</td>\n",
       "      <td>True</td>\n",
       "      <td>/trends/explore?q=/m/0jt3_q3&amp;date=today+5-y&amp;ge...</td>\n",
       "      <td>/m/0jt3_q3</td>\n",
       "      <td>Data Science</td>\n",
       "      <td>Thema</td>\n",
       "    </tr>\n",
       "    <tr>\n",
       "      <th>3</th>\n",
       "      <td>13</td>\n",
       "      <td>True</td>\n",
       "      <td>/trends/explore?q=/m/016t_3&amp;date=today+5-y&amp;geo=DE</td>\n",
       "      <td>/m/016t_3</td>\n",
       "      <td>Master</td>\n",
       "      <td>Abschluss</td>\n",
       "    </tr>\n",
       "    <tr>\n",
       "      <th>4</th>\n",
       "      <td>10</td>\n",
       "      <td>True</td>\n",
       "      <td>/trends/explore?q=/m/07tf8&amp;date=today+5-y&amp;geo=DE</td>\n",
       "      <td>/m/07tf8</td>\n",
       "      <td>Universität</td>\n",
       "      <td>Schulform</td>\n",
       "    </tr>\n",
       "    <tr>\n",
       "      <th>5</th>\n",
       "      <td>10</td>\n",
       "      <td>True</td>\n",
       "      <td>/trends/explore?q=/m/05z1_&amp;date=today+5-y&amp;geo=DE</td>\n",
       "      <td>/m/05z1_</td>\n",
       "      <td>Python</td>\n",
       "      <td>Programmiersprache</td>\n",
       "    </tr>\n",
       "    <tr>\n",
       "      <th>6</th>\n",
       "      <td>6</td>\n",
       "      <td>True</td>\n",
       "      <td>/trends/explore?q=/m/0dkw5&amp;date=today+5-y&amp;geo=DE</td>\n",
       "      <td>/m/0dkw5</td>\n",
       "      <td>Maschine</td>\n",
       "      <td>Thema</td>\n",
       "    </tr>\n",
       "    <tr>\n",
       "      <th>7</th>\n",
       "      <td>6</td>\n",
       "      <td>True</td>\n",
       "      <td>/trends/explore?q=/m/01hyh_&amp;date=today+5-y&amp;geo=DE</td>\n",
       "      <td>/m/01hyh_</td>\n",
       "      <td>Maschinelles Lernen</td>\n",
       "      <td>Thema</td>\n",
       "    </tr>\n",
       "    <tr>\n",
       "      <th>8</th>\n",
       "      <td>5</td>\n",
       "      <td>True</td>\n",
       "      <td>/trends/explore?q=/m/07hs4p&amp;date=today+5-y&amp;geo=DE</td>\n",
       "      <td>/m/07hs4p</td>\n",
       "      <td>Kurs</td>\n",
       "      <td>Lehrveranstaltung</td>\n",
       "    </tr>\n",
       "    <tr>\n",
       "      <th>9</th>\n",
       "      <td>5</td>\n",
       "      <td>True</td>\n",
       "      <td>/trends/explore?q=/m/02gcn9&amp;date=today+5-y&amp;geo=DE</td>\n",
       "      <td>/m/02gcn9</td>\n",
       "      <td>Analytisches Informationssystem</td>\n",
       "      <td>Thema</td>\n",
       "    </tr>\n",
       "    <tr>\n",
       "      <th>10</th>\n",
       "      <td>5</td>\n",
       "      <td>True</td>\n",
       "      <td>/trends/explore?q=/m/07zy4y&amp;date=today+5-y&amp;geo=DE</td>\n",
       "      <td>/m/07zy4y</td>\n",
       "      <td>Datenanalyse</td>\n",
       "      <td>Thema</td>\n",
       "    </tr>\n",
       "    <tr>\n",
       "      <th>11</th>\n",
       "      <td>4</td>\n",
       "      <td>True</td>\n",
       "      <td>/trends/explore?q=/g/1q6jbf0_w&amp;date=today+5-y&amp;...</td>\n",
       "      <td>/g/1q6jbf0_w</td>\n",
       "      <td>Studium</td>\n",
       "      <td>Thema</td>\n",
       "    </tr>\n",
       "    <tr>\n",
       "      <th>12</th>\n",
       "      <td>3</td>\n",
       "      <td>True</td>\n",
       "      <td>/trends/explore?q=/m/04115t2&amp;date=today+5-y&amp;ge...</td>\n",
       "      <td>/m/04115t2</td>\n",
       "      <td>Beschäftigung</td>\n",
       "      <td>Thema</td>\n",
       "    </tr>\n",
       "    <tr>\n",
       "      <th>13</th>\n",
       "      <td>3</td>\n",
       "      <td>True</td>\n",
       "      <td>/trends/explore?q=/m/02w88k&amp;date=today+5-y&amp;geo=DE</td>\n",
       "      <td>/m/02w88k</td>\n",
       "      <td>Arbeitsentgelt</td>\n",
       "      <td>Thema</td>\n",
       "    </tr>\n",
       "    <tr>\n",
       "      <th>14</th>\n",
       "      <td>3</td>\n",
       "      <td>True</td>\n",
       "      <td>/trends/explore?q=/m/02kwz2&amp;date=today+5-y&amp;geo=DE</td>\n",
       "      <td>/m/02kwz2</td>\n",
       "      <td>Intelligenz</td>\n",
       "      <td>Thema</td>\n",
       "    </tr>\n",
       "    <tr>\n",
       "      <th>15</th>\n",
       "      <td>3</td>\n",
       "      <td>True</td>\n",
       "      <td>/trends/explore?q=/m/06mnr&amp;date=today+5-y&amp;geo=DE</td>\n",
       "      <td>/m/06mnr</td>\n",
       "      <td>Statistik</td>\n",
       "      <td>Thema</td>\n",
       "    </tr>\n",
       "    <tr>\n",
       "      <th>16</th>\n",
       "      <td>3</td>\n",
       "      <td>True</td>\n",
       "      <td>/trends/explore?q=/m/0212jm&amp;date=today+5-y&amp;geo=DE</td>\n",
       "      <td>/m/0212jm</td>\n",
       "      <td>R</td>\n",
       "      <td>Programmiersprache</td>\n",
       "    </tr>\n",
       "    <tr>\n",
       "      <th>17</th>\n",
       "      <td>3</td>\n",
       "      <td>True</td>\n",
       "      <td>/trends/explore?q=/m/0mkz&amp;date=today+5-y&amp;geo=DE</td>\n",
       "      <td>/m/0mkz</td>\n",
       "      <td>Künstliche Intelligenz</td>\n",
       "      <td>Thema</td>\n",
       "    </tr>\n",
       "    <tr>\n",
       "      <th>18</th>\n",
       "      <td>3</td>\n",
       "      <td>True</td>\n",
       "      <td>/trends/explore?q=/m/0bs2j8q&amp;date=today+5-y&amp;ge...</td>\n",
       "      <td>/m/0bs2j8q</td>\n",
       "      <td>Big Data</td>\n",
       "      <td>Thema</td>\n",
       "    </tr>\n",
       "    <tr>\n",
       "      <th>19</th>\n",
       "      <td>3</td>\n",
       "      <td>True</td>\n",
       "      <td>/trends/explore?q=/m/01mkq&amp;date=today+5-y&amp;geo=DE</td>\n",
       "      <td>/m/01mkq</td>\n",
       "      <td>Informatik</td>\n",
       "      <td>Thema</td>\n",
       "    </tr>\n",
       "    <tr>\n",
       "      <th>20</th>\n",
       "      <td>3</td>\n",
       "      <td>True</td>\n",
       "      <td>/trends/explore?q=/g/121jnq1m&amp;date=today+5-y&amp;g...</td>\n",
       "      <td>/g/121jnq1m</td>\n",
       "      <td>Geschäft</td>\n",
       "      <td>Organisationstyp</td>\n",
       "    </tr>\n",
       "    <tr>\n",
       "      <th>21</th>\n",
       "      <td>3</td>\n",
       "      <td>True</td>\n",
       "      <td>/trends/explore?q=/m/0191f8&amp;date=today+5-y&amp;geo=DE</td>\n",
       "      <td>/m/0191f8</td>\n",
       "      <td>Lernen</td>\n",
       "      <td>Thema</td>\n",
       "    </tr>\n",
       "    <tr>\n",
       "      <th>22</th>\n",
       "      <td>2</td>\n",
       "      <td>True</td>\n",
       "      <td>/trends/explore?q=/g/121vr6rm&amp;date=today+5-y&amp;g...</td>\n",
       "      <td>/g/121vr6rm</td>\n",
       "      <td>Analyse</td>\n",
       "      <td>Thema</td>\n",
       "    </tr>\n",
       "    <tr>\n",
       "      <th>23</th>\n",
       "      <td>2</td>\n",
       "      <td>True</td>\n",
       "      <td>/trends/explore?q=/m/019v9k&amp;date=today+5-y&amp;geo=DE</td>\n",
       "      <td>/m/019v9k</td>\n",
       "      <td>Bachelor</td>\n",
       "      <td>Abschluss</td>\n",
       "    </tr>\n",
       "    <tr>\n",
       "      <th>24</th>\n",
       "      <td>2</td>\n",
       "      <td>True</td>\n",
       "      <td>/trends/explore?q=/m/03g_5n5&amp;date=today+5-y&amp;ge...</td>\n",
       "      <td>/m/03g_5n5</td>\n",
       "      <td>Fernstudium</td>\n",
       "      <td>Thema</td>\n",
       "    </tr>\n",
       "  </tbody>\n",
       "</table>\n",
       "</div>"
      ],
      "text/plain": [
       "   formattedValue  hasData                                               link  \\\n",
       "0             100     True   /trends/explore?q=/m/026sq&date=today+5-y&geo=DE   \n",
       "1              96     True   /trends/explore?q=/m/06mq7&date=today+5-y&geo=DE   \n",
       "2              95     True  /trends/explore?q=/m/0jt3_q3&date=today+5-y&ge...   \n",
       "3              13     True  /trends/explore?q=/m/016t_3&date=today+5-y&geo=DE   \n",
       "4              10     True   /trends/explore?q=/m/07tf8&date=today+5-y&geo=DE   \n",
       "5              10     True   /trends/explore?q=/m/05z1_&date=today+5-y&geo=DE   \n",
       "6               6     True   /trends/explore?q=/m/0dkw5&date=today+5-y&geo=DE   \n",
       "7               6     True  /trends/explore?q=/m/01hyh_&date=today+5-y&geo=DE   \n",
       "8               5     True  /trends/explore?q=/m/07hs4p&date=today+5-y&geo=DE   \n",
       "9               5     True  /trends/explore?q=/m/02gcn9&date=today+5-y&geo=DE   \n",
       "10              5     True  /trends/explore?q=/m/07zy4y&date=today+5-y&geo=DE   \n",
       "11              4     True  /trends/explore?q=/g/1q6jbf0_w&date=today+5-y&...   \n",
       "12              3     True  /trends/explore?q=/m/04115t2&date=today+5-y&ge...   \n",
       "13              3     True  /trends/explore?q=/m/02w88k&date=today+5-y&geo=DE   \n",
       "14              3     True  /trends/explore?q=/m/02kwz2&date=today+5-y&geo=DE   \n",
       "15              3     True   /trends/explore?q=/m/06mnr&date=today+5-y&geo=DE   \n",
       "16              3     True  /trends/explore?q=/m/0212jm&date=today+5-y&geo=DE   \n",
       "17              3     True    /trends/explore?q=/m/0mkz&date=today+5-y&geo=DE   \n",
       "18              3     True  /trends/explore?q=/m/0bs2j8q&date=today+5-y&ge...   \n",
       "19              3     True   /trends/explore?q=/m/01mkq&date=today+5-y&geo=DE   \n",
       "20              3     True  /trends/explore?q=/g/121jnq1m&date=today+5-y&g...   \n",
       "21              3     True  /trends/explore?q=/m/0191f8&date=today+5-y&geo=DE   \n",
       "22              2     True  /trends/explore?q=/g/121vr6rm&date=today+5-y&g...   \n",
       "23              2     True  /trends/explore?q=/m/019v9k&date=today+5-y&geo=DE   \n",
       "24              2     True  /trends/explore?q=/m/03g_5n5&date=today+5-y&ge...   \n",
       "\n",
       "       topic_mid                      topic_title          topic_type  \n",
       "0       /m/026sq                            Daten               Thema  \n",
       "1       /m/06mq7                     Wissenschaft               Thema  \n",
       "2     /m/0jt3_q3                     Data Science               Thema  \n",
       "3      /m/016t_3                           Master           Abschluss  \n",
       "4       /m/07tf8                      Universität           Schulform  \n",
       "5       /m/05z1_                           Python  Programmiersprache  \n",
       "6       /m/0dkw5                         Maschine               Thema  \n",
       "7      /m/01hyh_              Maschinelles Lernen               Thema  \n",
       "8      /m/07hs4p                             Kurs   Lehrveranstaltung  \n",
       "9      /m/02gcn9  Analytisches Informationssystem               Thema  \n",
       "10     /m/07zy4y                     Datenanalyse               Thema  \n",
       "11  /g/1q6jbf0_w                          Studium               Thema  \n",
       "12    /m/04115t2                    Beschäftigung               Thema  \n",
       "13     /m/02w88k                   Arbeitsentgelt               Thema  \n",
       "14     /m/02kwz2                      Intelligenz               Thema  \n",
       "15      /m/06mnr                        Statistik               Thema  \n",
       "16     /m/0212jm                                R  Programmiersprache  \n",
       "17       /m/0mkz           Künstliche Intelligenz               Thema  \n",
       "18    /m/0bs2j8q                         Big Data               Thema  \n",
       "19      /m/01mkq                       Informatik               Thema  \n",
       "20   /g/121jnq1m                         Geschäft    Organisationstyp  \n",
       "21     /m/0191f8                           Lernen               Thema  \n",
       "22   /g/121vr6rm                          Analyse               Thema  \n",
       "23     /m/019v9k                         Bachelor           Abschluss  \n",
       "24    /m/03g_5n5                      Fernstudium               Thema  "
      ]
     },
     "execution_count": 127,
     "metadata": {},
     "output_type": "execute_result"
    }
   ],
   "source": [
    "#LEVEL 1 search\n",
    "trend(searchterm,language_region, period)\n",
    "\n",
    "#call different objects that you are interestet in, every object should return a dict or an dataframe\n",
    "df_trend_related_topics_top = trend.related_topics_top\n",
    "#drop value column\n",
    "df_trend_related_topics_top = df_trend_related_topics_top.drop(columns={\"value\"})\n",
    "\n",
    "#Fix for the problem: Double entrysin column topic_title. One is \"Thema\" the other is e.g. \"Behörde\" \n",
    "#FIRST STEP: search for duplicates with different topic_type and drop the one !='Thema'\n",
    "#initialize df_doubles with the dataframe \n",
    "df_doubles = df_trend_related_topics_top\n",
    "#find duplicates\n",
    "df_doubles = df_doubles[(df_doubles.duplicated(subset=['topic_title'], keep= False) == True)&(df_doubles['topic_type']!= 'Thema')]\n",
    "#add column double and sign drop or not\n",
    "df_trend_related_topics_top['double'] = df_trend_related_topics_top.index.isin(df_doubles.index)\n",
    "#drop rows based on column \"double\"\n",
    "df_trend_related_topics_top= df_trend_related_topics_top[df_trend_related_topics_top['double'] != True]\n",
    "#drop column double\n",
    "df_trend_related_topics_top = df_trend_related_topics_top.drop(['double'], axis=1)\n",
    "#reset index\n",
    "df_trend_related_topics_top = df_trend_related_topics_top.reset_index(drop=True)\n",
    "\n",
    "#SECOND STEP: find doubles both with topic_type='Thema' and keep the first\n",
    "df_trend_related_topics_top = df_trend_related_topics_top.drop_duplicates(subset=['topic_title'], keep='first')\n",
    "#reset index\n",
    "df_trend_related_topics_top = df_trend_related_topics_top.reset_index(drop=True)\n",
    "\n",
    "df_trend_related_topics_top"
   ]
  },
  {
   "cell_type": "markdown",
   "metadata": {
    "heading_collapsed": true,
    "hidden": true
   },
   "source": [
    "### Second level search related topics"
   ]
  },
  {
   "cell_type": "code",
   "execution_count": 128,
   "metadata": {
    "hidden": true
   },
   "outputs": [
    {
     "data": {
      "text/html": [
       "<div>\n",
       "<style scoped>\n",
       "    .dataframe tbody tr th:only-of-type {\n",
       "        vertical-align: middle;\n",
       "    }\n",
       "\n",
       "    .dataframe tbody tr th {\n",
       "        vertical-align: top;\n",
       "    }\n",
       "\n",
       "    .dataframe thead th {\n",
       "        text-align: right;\n",
       "    }\n",
       "</style>\n",
       "<table border=\"1\" class=\"dataframe\">\n",
       "  <thead>\n",
       "    <tr style=\"text-align: right;\">\n",
       "      <th></th>\n",
       "      <th>Daten</th>\n",
       "      <th>Wissenschaft</th>\n",
       "      <th>Data Science</th>\n",
       "      <th>Master</th>\n",
       "      <th>Universität</th>\n",
       "      <th>Python</th>\n",
       "      <th>Maschine</th>\n",
       "      <th>Maschinelles Lernen</th>\n",
       "      <th>Kurs</th>\n",
       "      <th>Analytisches Informationssystem</th>\n",
       "      <th>...</th>\n",
       "      <th>Statistik</th>\n",
       "      <th>R</th>\n",
       "      <th>Künstliche Intelligenz</th>\n",
       "      <th>Big Data</th>\n",
       "      <th>Informatik</th>\n",
       "      <th>Geschäft</th>\n",
       "      <th>Lernen</th>\n",
       "      <th>Analyse</th>\n",
       "      <th>Bachelor</th>\n",
       "      <th>Fernstudium</th>\n",
       "    </tr>\n",
       "  </thead>\n",
       "  <tbody>\n",
       "    <tr>\n",
       "      <th>0</th>\n",
       "      <td>Technische Daten</td>\n",
       "      <td>Wissenschaftliche Arbeit</td>\n",
       "      <td>Daten</td>\n",
       "      <td>Universität</td>\n",
       "      <td>Universität zu Köln</td>\n",
       "      <td>Liste</td>\n",
       "      <td>Maschinelles Lernen</td>\n",
       "      <td>Maschine</td>\n",
       "      <td>Volkshochschule</td>\n",
       "      <td>Daten</td>\n",
       "      <td>...</td>\n",
       "      <td>Statistik</td>\n",
       "      <td>Daten</td>\n",
       "      <td>Intelligenz</td>\n",
       "      <td>Daten</td>\n",
       "      <td>Universität</td>\n",
       "      <td>Betriebswirtschaftslehre</td>\n",
       "      <td>Maschine</td>\n",
       "      <td>SWOT-Analyse</td>\n",
       "      <td>Master</td>\n",
       "      <td>Studium</td>\n",
       "    </tr>\n",
       "    <tr>\n",
       "      <th>1</th>\n",
       "      <td>Technik</td>\n",
       "      <td>Universität</td>\n",
       "      <td>Wissenschaft</td>\n",
       "      <td>Bachelor</td>\n",
       "      <td>Webmail</td>\n",
       "      <td>Zeichenkette</td>\n",
       "      <td>Nespresso</td>\n",
       "      <td>Lernen</td>\n",
       "      <td>FitX</td>\n",
       "      <td>SAP</td>\n",
       "      <td>...</td>\n",
       "      <td>Coronavirus disease 2019</td>\n",
       "      <td>RStudio</td>\n",
       "      <td>Maschine</td>\n",
       "      <td>Analytisches Informationssystem</td>\n",
       "      <td>Studium</td>\n",
       "      <td>Business Development</td>\n",
       "      <td>Maschinelles Lernen</td>\n",
       "      <td>Daten</td>\n",
       "      <td>Universität</td>\n",
       "      <td>IU Internationale Hochschule</td>\n",
       "    </tr>\n",
       "    <tr>\n",
       "      <th>2</th>\n",
       "      <td>Microsoft Excel</td>\n",
       "      <td>Arbeit</td>\n",
       "      <td>Python</td>\n",
       "      <td>Studium</td>\n",
       "      <td>Goethe-Universität Frankfurt am Main</td>\n",
       "      <td>Datei</td>\n",
       "      <td>Waschmaschine</td>\n",
       "      <td>Daten</td>\n",
       "      <td>Lernen</td>\n",
       "      <td>Datenanalyse</td>\n",
       "      <td>...</td>\n",
       "      <td>Fortnite</td>\n",
       "      <td>Graphische Darstellung</td>\n",
       "      <td>Maschinelles Lernen</td>\n",
       "      <td>Künstliche Intelligenz</td>\n",
       "      <td>Informatiker</td>\n",
       "      <td>International</td>\n",
       "      <td>Sprache</td>\n",
       "      <td>Beispiel</td>\n",
       "      <td>Der Bachelor</td>\n",
       "      <td>Master</td>\n",
       "    </tr>\n",
       "    <tr>\n",
       "      <th>3</th>\n",
       "      <td>Datei</td>\n",
       "      <td>Daten</td>\n",
       "      <td>Arbeitsentgelt</td>\n",
       "      <td>Betriebswirtschaftslehre</td>\n",
       "      <td>Mainz</td>\n",
       "      <td>Feld</td>\n",
       "      <td>Nespresso</td>\n",
       "      <td>Python</td>\n",
       "      <td>Sprache</td>\n",
       "      <td>Business Objects</td>\n",
       "      <td>...</td>\n",
       "      <td>Stats Royale für Clash Royale</td>\n",
       "      <td>RStudio</td>\n",
       "      <td>Roboter</td>\n",
       "      <td>Definition</td>\n",
       "      <td>Computer</td>\n",
       "      <td>Showgeschäft</td>\n",
       "      <td>Deep Learning</td>\n",
       "      <td>Lyrik</td>\n",
       "      <td>Studium</td>\n",
       "      <td>Ausbildung</td>\n",
       "    </tr>\n",
       "    <tr>\n",
       "      <th>4</th>\n",
       "      <td>Data Science</td>\n",
       "      <td>Data Science</td>\n",
       "      <td>Master</td>\n",
       "      <td>Psychologie</td>\n",
       "      <td>Bonn</td>\n",
       "      <td>Zuordnungstabelle</td>\n",
       "      <td>Waschen</td>\n",
       "      <td>Künstliche Intelligenz</td>\n",
       "      <td>Erste Hilfe</td>\n",
       "      <td>Cloud Computing</td>\n",
       "      <td>...</td>\n",
       "      <td>Comunio</td>\n",
       "      <td>Column</td>\n",
       "      <td>WOMBO</td>\n",
       "      <td>Analyse</td>\n",
       "      <td>Wissenschaft</td>\n",
       "      <td>Internationales Management</td>\n",
       "      <td>good</td>\n",
       "      <td>Interpretation</td>\n",
       "      <td>Wissenschaft</td>\n",
       "      <td>Psychologie</td>\n",
       "    </tr>\n",
       "    <tr>\n",
       "      <th>5</th>\n",
       "      <td>Personenbezogene Daten</td>\n",
       "      <td>Science-Fiction</td>\n",
       "      <td>Universität</td>\n",
       "      <td>Wissenschaft</td>\n",
       "      <td>Universität Duisburg-Essen</td>\n",
       "      <td>pandas</td>\n",
       "      <td>Lernen</td>\n",
       "      <td>Lernen</td>\n",
       "      <td>Barista</td>\n",
       "      <td>Google Analytics</td>\n",
       "      <td>...</td>\n",
       "      <td>World of Tanks</td>\n",
       "      <td>Funktion</td>\n",
       "      <td>Programmpaket</td>\n",
       "      <td>Intelligenz</td>\n",
       "      <td>Master</td>\n",
       "      <td>Management</td>\n",
       "      <td>Python</td>\n",
       "      <td>Datenanalyse</td>\n",
       "      <td>Betriebswirtschaftslehre</td>\n",
       "      <td>Universität</td>\n",
       "    </tr>\n",
       "    <tr>\n",
       "      <th>6</th>\n",
       "      <td>Big Data</td>\n",
       "      <td>Fiktion</td>\n",
       "      <td>Maschinelles Lernen</td>\n",
       "      <td>Bewerbung</td>\n",
       "      <td>Johannes Gutenberg-Universität Mainz</td>\n",
       "      <td>NumPy</td>\n",
       "      <td>Kaffee</td>\n",
       "      <td>Intelligenz</td>\n",
       "      <td>Training</td>\n",
       "      <td>Predictive Analytics</td>\n",
       "      <td>...</td>\n",
       "      <td>Influenza</td>\n",
       "      <td>ggplot2</td>\n",
       "      <td>Börsengehandelter Fonds</td>\n",
       "      <td>Cloud Computing</td>\n",
       "      <td>Informatikstudium</td>\n",
       "      <td>Business Intelligence</td>\n",
       "      <td>Daten</td>\n",
       "      <td>Kurzgeschichte</td>\n",
       "      <td>Bachelor of Science</td>\n",
       "      <td>Hagen</td>\n",
       "    </tr>\n",
       "    <tr>\n",
       "      <th>7</th>\n",
       "      <td>Wissenschaft</td>\n",
       "      <td>Master</td>\n",
       "      <td>Maschine</td>\n",
       "      <td>Management</td>\n",
       "      <td>Rheinische Friedrich-Wilhelms-Universität Bonn</td>\n",
       "      <td>Daten</td>\n",
       "      <td>Espressomaschine</td>\n",
       "      <td>Algorithmus</td>\n",
       "      <td>Industrie- und Handelskammer</td>\n",
       "      <td>Geschäft</td>\n",
       "      <td>...</td>\n",
       "      <td>R6Stats</td>\n",
       "      <td>Tabelle</td>\n",
       "      <td>ASUS</td>\n",
       "      <td>Datenanalyse</td>\n",
       "      <td>Bachelor</td>\n",
       "      <td>Intelligenz</td>\n",
       "      <td>Kurs</td>\n",
       "      <td>Statistik</td>\n",
       "      <td>Bachelor of Arts</td>\n",
       "      <td>Bachelor</td>\n",
       "    </tr>\n",
       "    <tr>\n",
       "      <th>8</th>\n",
       "      <td>Datenbank</td>\n",
       "      <td>Bachelor</td>\n",
       "      <td>Kurs</td>\n",
       "      <td>Fernstudium</td>\n",
       "      <td>Bibliothek</td>\n",
       "      <td>Variable</td>\n",
       "      <td>Espresso</td>\n",
       "      <td>Deep Learning</td>\n",
       "      <td>McFit</td>\n",
       "      <td>Big Data</td>\n",
       "      <td>...</td>\n",
       "      <td>Todesfall</td>\n",
       "      <td>Datensatz</td>\n",
       "      <td>Technologie</td>\n",
       "      <td>Börsengehandelter Fonds</td>\n",
       "      <td>Arbeitsentgelt</td>\n",
       "      <td>Geschäftsleiter</td>\n",
       "      <td>Bestärkendes Lernen</td>\n",
       "      <td>Cartoon</td>\n",
       "      <td>Arbeitsentgelt</td>\n",
       "      <td>sozial</td>\n",
       "    </tr>\n",
       "    <tr>\n",
       "      <th>9</th>\n",
       "      <td>Löschen von Daten</td>\n",
       "      <td>Biologie</td>\n",
       "      <td>Datenanalyse</td>\n",
       "      <td>Arbeitsentgelt</td>\n",
       "      <td>Universität Hamburg</td>\n",
       "      <td>Funktion</td>\n",
       "      <td>Nähmaschine</td>\n",
       "      <td>Data Science</td>\n",
       "      <td>Udemy</td>\n",
       "      <td>Business Analytics</td>\n",
       "      <td>...</td>\n",
       "      <td>Tom Clancy's Rainbow Six: Siege</td>\n",
       "      <td>Datei</td>\n",
       "      <td>Asus</td>\n",
       "      <td>Geschäft</td>\n",
       "      <td>Mathematik</td>\n",
       "      <td>Geschäftsplan</td>\n",
       "      <td>Verstärkung</td>\n",
       "      <td>Inhaltsangabe</td>\n",
       "      <td>Psychologie</td>\n",
       "      <td>Soziale Arbeit</td>\n",
       "    </tr>\n",
       "  </tbody>\n",
       "</table>\n",
       "<p>10 rows × 25 columns</p>\n",
       "</div>"
      ],
      "text/plain": [
       "                    Daten              Wissenschaft         Data Science  \\\n",
       "0        Technische Daten  Wissenschaftliche Arbeit                Daten   \n",
       "1                 Technik               Universität         Wissenschaft   \n",
       "2         Microsoft Excel                    Arbeit               Python   \n",
       "3                   Datei                     Daten       Arbeitsentgelt   \n",
       "4            Data Science              Data Science               Master   \n",
       "5  Personenbezogene Daten           Science-Fiction          Universität   \n",
       "6                Big Data                   Fiktion  Maschinelles Lernen   \n",
       "7            Wissenschaft                    Master             Maschine   \n",
       "8               Datenbank                  Bachelor                 Kurs   \n",
       "9       Löschen von Daten                  Biologie         Datenanalyse   \n",
       "\n",
       "                     Master                                     Universität  \\\n",
       "0               Universität                             Universität zu Köln   \n",
       "1                  Bachelor                                         Webmail   \n",
       "2                   Studium            Goethe-Universität Frankfurt am Main   \n",
       "3  Betriebswirtschaftslehre                                           Mainz   \n",
       "4               Psychologie                                            Bonn   \n",
       "5              Wissenschaft                      Universität Duisburg-Essen   \n",
       "6                 Bewerbung            Johannes Gutenberg-Universität Mainz   \n",
       "7                Management  Rheinische Friedrich-Wilhelms-Universität Bonn   \n",
       "8               Fernstudium                                      Bibliothek   \n",
       "9            Arbeitsentgelt                             Universität Hamburg   \n",
       "\n",
       "              Python             Maschine     Maschinelles Lernen  \\\n",
       "0              Liste  Maschinelles Lernen                Maschine   \n",
       "1       Zeichenkette            Nespresso                  Lernen   \n",
       "2              Datei        Waschmaschine                   Daten   \n",
       "3               Feld            Nespresso                  Python   \n",
       "4  Zuordnungstabelle              Waschen  Künstliche Intelligenz   \n",
       "5             pandas               Lernen                  Lernen   \n",
       "6              NumPy               Kaffee             Intelligenz   \n",
       "7              Daten     Espressomaschine             Algorithmus   \n",
       "8           Variable             Espresso           Deep Learning   \n",
       "9           Funktion          Nähmaschine            Data Science   \n",
       "\n",
       "                           Kurs Analytisches Informationssystem  ...  \\\n",
       "0               Volkshochschule                           Daten  ...   \n",
       "1                          FitX                             SAP  ...   \n",
       "2                        Lernen                    Datenanalyse  ...   \n",
       "3                       Sprache                Business Objects  ...   \n",
       "4                   Erste Hilfe                 Cloud Computing  ...   \n",
       "5                       Barista                Google Analytics  ...   \n",
       "6                      Training            Predictive Analytics  ...   \n",
       "7  Industrie- und Handelskammer                        Geschäft  ...   \n",
       "8                         McFit                        Big Data  ...   \n",
       "9                         Udemy              Business Analytics  ...   \n",
       "\n",
       "                         Statistik                       R  \\\n",
       "0                        Statistik                   Daten   \n",
       "1         Coronavirus disease 2019                 RStudio   \n",
       "2                         Fortnite  Graphische Darstellung   \n",
       "3    Stats Royale für Clash Royale                 RStudio   \n",
       "4                          Comunio                  Column   \n",
       "5                   World of Tanks                Funktion   \n",
       "6                        Influenza                 ggplot2   \n",
       "7                          R6Stats                 Tabelle   \n",
       "8                        Todesfall               Datensatz   \n",
       "9  Tom Clancy's Rainbow Six: Siege                   Datei   \n",
       "\n",
       "    Künstliche Intelligenz                         Big Data  \\\n",
       "0              Intelligenz                            Daten   \n",
       "1                 Maschine  Analytisches Informationssystem   \n",
       "2      Maschinelles Lernen           Künstliche Intelligenz   \n",
       "3                  Roboter                       Definition   \n",
       "4                    WOMBO                          Analyse   \n",
       "5            Programmpaket                      Intelligenz   \n",
       "6  Börsengehandelter Fonds                  Cloud Computing   \n",
       "7                     ASUS                     Datenanalyse   \n",
       "8              Technologie          Börsengehandelter Fonds   \n",
       "9                     Asus                         Geschäft   \n",
       "\n",
       "          Informatik                    Geschäft               Lernen  \\\n",
       "0        Universität    Betriebswirtschaftslehre             Maschine   \n",
       "1            Studium        Business Development  Maschinelles Lernen   \n",
       "2       Informatiker               International              Sprache   \n",
       "3           Computer                Showgeschäft        Deep Learning   \n",
       "4       Wissenschaft  Internationales Management                 good   \n",
       "5             Master                  Management               Python   \n",
       "6  Informatikstudium       Business Intelligence                Daten   \n",
       "7           Bachelor                 Intelligenz                 Kurs   \n",
       "8     Arbeitsentgelt             Geschäftsleiter  Bestärkendes Lernen   \n",
       "9         Mathematik               Geschäftsplan          Verstärkung   \n",
       "\n",
       "          Analyse                  Bachelor                   Fernstudium  \n",
       "0    SWOT-Analyse                    Master                       Studium  \n",
       "1           Daten               Universität  IU Internationale Hochschule  \n",
       "2        Beispiel              Der Bachelor                        Master  \n",
       "3           Lyrik                   Studium                    Ausbildung  \n",
       "4  Interpretation              Wissenschaft                   Psychologie  \n",
       "5    Datenanalyse  Betriebswirtschaftslehre                   Universität  \n",
       "6  Kurzgeschichte       Bachelor of Science                         Hagen  \n",
       "7       Statistik          Bachelor of Arts                      Bachelor  \n",
       "8         Cartoon            Arbeitsentgelt                        sozial  \n",
       "9   Inhaltsangabe               Psychologie                Soziale Arbeit  \n",
       "\n",
       "[10 rows x 25 columns]"
      ]
     },
     "execution_count": 128,
     "metadata": {},
     "output_type": "execute_result"
    }
   ],
   "source": [
    "df_head_topics = pd.DataFrame(df_trend_related_topics_top)\n",
    "df_head_topics = df_head_topics.set_index(['topic_title'])\n",
    "dict_topics_out = {}\n",
    "\n",
    "#iterate over df and search every keyword\n",
    "for i in range(0,len(df_trend_related_topics_top),1):\n",
    "    #print(df_trend_related_search_top['query'][i])\n",
    "    searchstring = df_trend_related_topics_top['topic_mid'][i]\n",
    "    \n",
    "    #start the search at Level 2\n",
    "    trend(searchstring,language_region, period)\n",
    "    #call different objects that you are interestet in, every object should return a dict or an dataframe\n",
    "    df_out_topics_top = trend.related_topics_top\n",
    "   \n",
    "    #if values found\n",
    "    if (df_out_topics_top is not None):\n",
    "        topic_values = df_out_topics_top['topic_title'].tolist()\n",
    "        dict_topics_out[df_trend_related_topics_top['topic_title'][i]] = topic_values\n",
    "        \n",
    "        \n",
    "#df which contains the top related search terms to the start term\n",
    "df_head_topics = df_head_topics[['topic_mid']] #drop every column except value and topic_mid\n",
    "df_head_topics = df_head_topics.transpose()\n",
    "#trop topic_mid\n",
    "df_head_topics = df_head_topics.drop('topic_mid')\n",
    "\n",
    "#df which contains the top related search terms to the top related search terms\n",
    "df_top_topics_related = pd.DataFrame.from_dict(dict_topics_out, orient='index')\n",
    "df_top_topics_related = df_top_topics_related.transpose()\n",
    "\n",
    "#output matrix\n",
    "df_result_topics = pd.concat([df_head_topics, df_top_topics_related])\n",
    "#result_topics = pd.concat([df_head_topics, df_top_topics_related], join=\"inner\")\n",
    "df_result_topics = df_result_topics[:secondlevelcut]\n",
    "df_result_topics"
   ]
  },
  {
   "cell_type": "markdown",
   "metadata": {
    "heading_collapsed": true
   },
   "source": [
    "## Ranking"
   ]
  },
  {
   "cell_type": "markdown",
   "metadata": {
    "hidden": true
   },
   "source": [
    "### Ranking function"
   ]
  },
  {
   "cell_type": "markdown",
   "metadata": {
    "heading_collapsed": true,
    "hidden": true
   },
   "source": [
    "#### Define different reanking methods"
   ]
  },
  {
   "cell_type": "code",
   "execution_count": 114,
   "metadata": {
    "hidden": true
   },
   "outputs": [],
   "source": [
    "# Last Date\n",
    "def byLastDate(df):\n",
    "    df = df.iloc[-1:]\n",
    "    sorted_df = df.sort_values(df.last_valid_index(), ascending=False, axis=1)\n",
    "    sorted_df = sorted_df.transpose()  \n",
    "    sorted_df = sorted_df.reset_index()\n",
    "    return sorted_df\n",
    "\n",
    "# certain Date\n",
    "def byDate(df,t):\n",
    "    df = df[df.index == t]\n",
    "    sorted_df = df.sort_values(df.last_valid_index(), axis=1)\n",
    "    return sorted_df\n",
    "\n",
    "# multiple Dates\n",
    "def byMultiDates(df,*args):\n",
    "    df_0 = pd.DataFrame()\n",
    "    for arg in args:\n",
    "        df_0 = df_0.append(df[df.index == arg])\n",
    "        sorted_df = df_0.sort_values(df_0.last_valid_index(), axis=1)\n",
    "    return sorted_df\n",
    "\n",
    "\n",
    "#mean \n",
    "def byMean(df):\n",
    "    df = df.transpose()\n",
    "    df['mean'] = df.mean(axis=1)\n",
    "    df = df['mean'].reset_index()\n",
    "    sorted_df = df.sort_values(by='mean', ascending=False).reset_index(drop=True)\n",
    "    top = round(sorted_df.loc[0]['mean'],4)\n",
    "    sorted_df['normalized'] = sorted_df.apply(lambda x: (x['mean']/top)*100, axis=1).round(6)\n",
    "    return sorted_df\n",
    "\n",
    "\n",
    "#last date non zero\n",
    "\n",
    "#pre last date"
   ]
  },
  {
   "cell_type": "markdown",
   "metadata": {
    "heading_collapsed": true,
    "hidden": true
   },
   "source": [
    "#### Rank searchtmerms from tuplets"
   ]
  },
  {
   "cell_type": "markdown",
   "metadata": {
    "hidden": true
   },
   "source": [
    "The function getValues(data) needs as its argument a list with search strings. A dataframe with the normalized trend values over time will be returned."
   ]
  },
  {
   "cell_type": "code",
   "execution_count": 45,
   "metadata": {
    "hidden": true
   },
   "outputs": [],
   "source": [
    "def getValues(data):\n",
    "    if (type(data) == list):\n",
    "        tmp = data\n",
    "        lists = []\n",
    "        df_values = pd.DataFrame()\n",
    "        while (len(tmp) > 0):            \n",
    "            for i in range(0, 4, 1):\n",
    "                part = tmp[0:5]\n",
    "                lists.append(part)\n",
    "                if (len(tmp) > 0):\n",
    "                    tmp = tmp[4:]\n",
    "                else:\n",
    "                    break\n",
    "                break\n",
    "        for sublist in lists:\n",
    "#            print(sublist)\n",
    "            #search each sublist\n",
    "            pytrend1 = TrendReq(hl='de')\n",
    "            pytrend1.build_payload(kw_list=sublist,geo=language_region , timeframe = period)    \n",
    "            df_out = pytrend1.interest_over_time()\n",
    "            \n",
    "            #drop column\n",
    "            df_out = df_out.drop(['isPartial'], axis=1)\n",
    "            \n",
    "            #fix bug -->mean\n",
    "            #df_out = df_out.mean(axis=0).reset_index().set_index('index').rename(columns={0: 'value'}).transpose()\n",
    "            \n",
    "            #initial df_values in first step\n",
    "            if(len(df_values) <= 0):\n",
    "                df_values = pd.concat([df_values, df_out], axis=1)\n",
    "                \n",
    "            else:\n",
    "                #ATTENTION: avoid zero division\n",
    "                if ((df_out.iloc[0,0] != 0)&(df_values.iloc[0,-1] != 0) ):\n",
    "                    #normFac= float(df_values.iloc[0,-1] / df_out.iloc[0,0])\n",
    "                    normFac= float(df_values.iloc[:,-1].mean() / df_out.iloc[:,0].mean())\n",
    "#                     print(df_values.iloc[:,-1].mean())\n",
    "#                     print(df_out.iloc[:,0].mean())\n",
    "                    #problem: Beginn einer Kettenreaktion sobald ein Faktor 0 wird\n",
    "                    #print(df_out)\n",
    "#                     print('Last mean value previous set: '+str(df_values.iloc[:,-1].mean()))\n",
    "#                     print('First mean value actual set: '+str(df_out.iloc[:,0].mean()))\n",
    "#                     print('Normalization factor: '+str(normFac))\n",
    "                    \n",
    "                else:\n",
    "                    #use mean() for normalization factor\n",
    "                    #normalize\n",
    "                    df_values = df_values.replace([0],0.000001)\n",
    "                    df_values = df_values.fillna(0.000001)\n",
    "                    df_out = df_out.replace([0],0.000001)\n",
    "                    df_out = df_out.fillna(0.000001)\n",
    "                    #use this value instead of zero or NULL -->Problematic! \n",
    "                    #if (df_out.iloc[0,0] == 0):                        \n",
    "                        #df_out.iloc[0,0] = 0.1\n",
    "                    #else: \n",
    "                    #    df_out.iloc[0,-1]= 0.1\n",
    "                    \n",
    "                    #normFac= float(df_values.iloc[0,-1] / df_out.iloc[0,0])\n",
    "                    normFac= float(df_values.iloc[:,-1].mean() / df_out.iloc[:,0].mean())\n",
    "                    #normFac = 0.0000000000000000001\n",
    "                    #print(df_out)\n",
    "#                     print('Last mean value previous set: '+str(df_values.iloc[:,-1].mean()))\n",
    "#                     print('First mean value actual set: '+str(df_out.iloc[:,0].mean()))\n",
    "#                     print('Normalization factor: '+str(normFac))\n",
    "                \n",
    "                #normalize df_out\n",
    "                for column in df_out:\n",
    "                    df_out[column]= df_out[column] * normFac\n",
    "                df_out = df_out.round(0)\n",
    "                \n",
    "\n",
    "                df_out.drop(columns=df_out.columns[0], axis=1, inplace=True)\n",
    "                df_values = pd.concat([df_values, df_out], axis=1)\n",
    "            \n",
    "        \n",
    "        \n",
    "    elif (type(data) == str):\n",
    "        trend(data,language_region, period)\n",
    "        df_values = trend.interest\n",
    "       \n",
    "                \n",
    "            \n",
    "    \n",
    "    else:\n",
    "        print('Error.')\n",
    "    return df_values"
   ]
  },
  {
   "cell_type": "markdown",
   "metadata": {
    "heading_collapsed": true,
    "hidden": true
   },
   "source": [
    "#### Transform function"
   ]
  },
  {
   "cell_type": "markdown",
   "metadata": {
    "hidden": true
   },
   "source": [
    "This function transform a given dataframe into a list by adding column header and ALL values."
   ]
  },
  {
   "cell_type": "code",
   "execution_count": 14,
   "metadata": {
    "hidden": true
   },
   "outputs": [],
   "source": [
    "def dftolist(df):\n",
    "    list_out = []\n",
    "    \n",
    "    #add column header to list\n",
    "    list_out = df.columns.tolist()\n",
    "    \n",
    "    #iterate over columns\n",
    "    for column in df:\n",
    "        #all column values (as a list) to temp_list\n",
    "        temp_list = df[column].values\n",
    "        #reassign temp_list and add each item except None to the new templist \n",
    "        temp_list = [i for i in temp_list if i is not None]\n",
    "        #reassign temp_list and add each item except nan to the new templist \n",
    "        temp_list = [x for x in temp_list if str(x) != 'nan']\n",
    "\n",
    "        #add each entry from temp_list to the output list\n",
    "        for item in temp_list:\n",
    "            list_out.append(item)    \n",
    "    \n",
    "    #remove double entrys\n",
    "    list_out = list(set(list_out))\n",
    "    return list_out"
   ]
  },
  {
   "cell_type": "markdown",
   "metadata": {
    "heading_collapsed": true,
    "hidden": true
   },
   "source": [
    "#### Rank all the matrix values (search terms)"
   ]
  },
  {
   "cell_type": "code",
   "execution_count": 106,
   "metadata": {
    "hidden": true
   },
   "outputs": [],
   "source": [
    "# f=sorting function, df=data, k=related topics=1 or queries=2\n",
    "def df_to_ranking(f, df, k):    \n",
    "    #all entrys in search_list\n",
    "    search_list = dftolist(df)\n",
    "    #find all values\n",
    "    df_values = getValues(search_list)\n",
    "    #transpose matrix for easier handling\n",
    "    #df_values = df_values.transpose()  \n",
    "    df_valuelist = df_values\n",
    "    # pick desired sorting algorithm\n",
    "    sorted_data = f(df_valuelist)\n",
    "    if k ==1:\n",
    "        sorted_data['relationship'] = sorted_data.apply(lambda x: getRelationship(x['index'], 'topic'), axis=1)\n",
    "    elif k == 2:\n",
    "        sorted_data['relationship'] = sorted_data.apply(lambda x: getRelationship(x['index'], 'term'), axis=1)\n",
    "        \n",
    "    return sorted_data"
   ]
  },
  {
   "cell_type": "markdown",
   "metadata": {
    "heading_collapsed": true,
    "hidden": true
   },
   "source": [
    "#### Get relationship"
   ]
  },
  {
   "cell_type": "code",
   "execution_count": 17,
   "metadata": {
    "hidden": true
   },
   "outputs": [],
   "source": [
    "#get the ralationship of a given term/topic\n",
    "def getRelationship(searchterm, searchtype):\n",
    "    if (searchtype == 'term'):\n",
    "        #dict with all first&second level SEARCHTERMS\n",
    "        search_on=dict_out        \n",
    "    elif(searchtype == 'topic'):\n",
    "        #dict with all first&second level TOPICS\n",
    "        search_on=dict_topics_out        \n",
    "    else:\n",
    "        print('Error. Can`t get relationship')\n",
    "        return 'Error. Can`t get relationship'\n",
    "        \n",
    "    #first level\n",
    "    first_level = []\n",
    "    first_level = list(search_on.keys())\n",
    "    #first_level\n",
    "    #print('First Level: '+str((searchterm in first_level)))\n",
    "\n",
    "    #second level values\n",
    "    second_level = []\n",
    "    dict_list = list(search_on.values())\n",
    "    for l in dict_list:\n",
    "        for item in l:\n",
    "            second_level.append(item)\n",
    "    #second_level\n",
    "    #print('Second Level: '+str((searchterm in second_level)))\n",
    "    \n",
    "    \n",
    "    #return\n",
    "    if((searchterm in first_level) & (searchterm in second_level)):\n",
    "        back = 'both levels'\n",
    "    elif ((searchterm in first_level)):\n",
    "        back = 'first level'\n",
    "    elif((searchterm in second_level)):\n",
    "        back = 'second level'\n",
    "    else: \n",
    "        back = 'Error'\n",
    "    \n",
    "    return back"
   ]
  },
  {
   "cell_type": "markdown",
   "metadata": {
    "heading_collapsed": true,
    "hidden": true
   },
   "source": [
    "### Start ranking and get output"
   ]
  },
  {
   "cell_type": "code",
   "execution_count": 129,
   "metadata": {
    "hidden": true
   },
   "outputs": [
    {
     "data": {
      "text/html": [
       "<div>\n",
       "<style scoped>\n",
       "    .dataframe tbody tr th:only-of-type {\n",
       "        vertical-align: middle;\n",
       "    }\n",
       "\n",
       "    .dataframe tbody tr th {\n",
       "        vertical-align: top;\n",
       "    }\n",
       "\n",
       "    .dataframe thead th {\n",
       "        text-align: right;\n",
       "    }\n",
       "</style>\n",
       "<table border=\"1\" class=\"dataframe\">\n",
       "  <thead>\n",
       "    <tr style=\"text-align: right;\">\n",
       "      <th>date</th>\n",
       "      <th>index</th>\n",
       "      <th>2021-12-05 00:00:00</th>\n",
       "      <th>relationship</th>\n",
       "    </tr>\n",
       "  </thead>\n",
       "  <tbody>\n",
       "    <tr>\n",
       "      <th>0</th>\n",
       "      <td>data scientist</td>\n",
       "      <td>59.000000</td>\n",
       "      <td>first level</td>\n",
       "    </tr>\n",
       "    <tr>\n",
       "      <th>1</th>\n",
       "      <td>master data science</td>\n",
       "      <td>20.000000</td>\n",
       "      <td>Error</td>\n",
       "    </tr>\n",
       "    <tr>\n",
       "      <th>2</th>\n",
       "      <td>python data science</td>\n",
       "      <td>19.000000</td>\n",
       "      <td>Error</td>\n",
       "    </tr>\n",
       "    <tr>\n",
       "      <th>3</th>\n",
       "      <td>data scientist gehalt</td>\n",
       "      <td>6.000000</td>\n",
       "      <td>second level</td>\n",
       "    </tr>\n",
       "    <tr>\n",
       "      <th>4</th>\n",
       "      <td>data science jobs</td>\n",
       "      <td>0.000001</td>\n",
       "      <td>Error</td>\n",
       "    </tr>\n",
       "    <tr>\n",
       "      <th>5</th>\n",
       "      <td>data science studium</td>\n",
       "      <td>0.000001</td>\n",
       "      <td>Error</td>\n",
       "    </tr>\n",
       "    <tr>\n",
       "      <th>6</th>\n",
       "      <td>towards data science</td>\n",
       "      <td>0.000001</td>\n",
       "      <td>Error</td>\n",
       "    </tr>\n",
       "    <tr>\n",
       "      <th>7</th>\n",
       "      <td>data science gehalt</td>\n",
       "      <td>0.000001</td>\n",
       "      <td>Error</td>\n",
       "    </tr>\n",
       "    <tr>\n",
       "      <th>8</th>\n",
       "      <td>r for data science</td>\n",
       "      <td>0.000001</td>\n",
       "      <td>Error</td>\n",
       "    </tr>\n",
       "  </tbody>\n",
       "</table>\n",
       "</div>"
      ],
      "text/plain": [
       "date                  index  2021-12-05 00:00:00  relationship\n",
       "0            data scientist            59.000000   first level\n",
       "1       master data science            20.000000         Error\n",
       "2       python data science            19.000000         Error\n",
       "3     data scientist gehalt             6.000000  second level\n",
       "4         data science jobs             0.000001         Error\n",
       "5      data science studium             0.000001         Error\n",
       "6      towards data science             0.000001         Error\n",
       "7       data science gehalt             0.000001         Error\n",
       "8        r for data science             0.000001         Error"
      ]
     },
     "execution_count": 129,
     "metadata": {},
     "output_type": "execute_result"
    }
   ],
   "source": [
    "df_searchterm_ranking = df_to_ranking(byLastDate, df_result, 2)\n",
    "#df_searchtopic_ranking = df_to_ranking(df_result_topics)\n",
    "\n",
    "#normalize df_searchterm_ranking\n",
    "#top = round(df_searchterm_ranking.loc[0]['mean'],4)\n",
    "#df_searchterm_ranking['normalized'] = df_searchterm_ranking.apply(lambda x: (x['mean']/top)*100, axis=1).round(6)\n",
    "\n",
    "#normalize df_searchtopic_ranking\n",
    "#top = round(df_searchtopic_ranking.loc[0]['mean'],4)\n",
    "#df_searchtopic_ranking['normalized'] = df_searchtopic_ranking.apply(lambda x: (x['mean']/top)*100, axis=1).round(6)\n",
    "\n",
    "df_searchterm_ranking.head(20)\n",
    "#df_searchtopic_ranking.head(20)"
   ]
  },
  {
   "cell_type": "code",
   "execution_count": 130,
   "metadata": {
    "hidden": true
   },
   "outputs": [
    {
     "data": {
      "text/html": [
       "<div>\n",
       "<style scoped>\n",
       "    .dataframe tbody tr th:only-of-type {\n",
       "        vertical-align: middle;\n",
       "    }\n",
       "\n",
       "    .dataframe tbody tr th {\n",
       "        vertical-align: top;\n",
       "    }\n",
       "\n",
       "    .dataframe thead th {\n",
       "        text-align: right;\n",
       "    }\n",
       "</style>\n",
       "<table border=\"1\" class=\"dataframe\">\n",
       "  <thead>\n",
       "    <tr style=\"text-align: right;\">\n",
       "      <th></th>\n",
       "      <th>index</th>\n",
       "      <th>mean</th>\n",
       "      <th>normalized</th>\n",
       "      <th>relationship</th>\n",
       "    </tr>\n",
       "  </thead>\n",
       "  <tbody>\n",
       "    <tr>\n",
       "      <th>0</th>\n",
       "      <td>data scientist</td>\n",
       "      <td>36.153846</td>\n",
       "      <td>100.000128</td>\n",
       "      <td>first level</td>\n",
       "    </tr>\n",
       "    <tr>\n",
       "      <th>1</th>\n",
       "      <td>master data science</td>\n",
       "      <td>10.673077</td>\n",
       "      <td>29.521315</td>\n",
       "      <td>Error</td>\n",
       "    </tr>\n",
       "    <tr>\n",
       "      <th>2</th>\n",
       "      <td>python data science</td>\n",
       "      <td>8.811539</td>\n",
       "      <td>24.372372</td>\n",
       "      <td>Error</td>\n",
       "    </tr>\n",
       "    <tr>\n",
       "      <th>3</th>\n",
       "      <td>data science jobs</td>\n",
       "      <td>5.734616</td>\n",
       "      <td>15.861724</td>\n",
       "      <td>Error</td>\n",
       "    </tr>\n",
       "    <tr>\n",
       "      <th>4</th>\n",
       "      <td>data scientist gehalt</td>\n",
       "      <td>5.315385</td>\n",
       "      <td>14.702148</td>\n",
       "      <td>second level</td>\n",
       "    </tr>\n",
       "    <tr>\n",
       "      <th>5</th>\n",
       "      <td>data science studium</td>\n",
       "      <td>3.269231</td>\n",
       "      <td>9.042567</td>\n",
       "      <td>Error</td>\n",
       "    </tr>\n",
       "    <tr>\n",
       "      <th>6</th>\n",
       "      <td>data science gehalt</td>\n",
       "      <td>2.184616</td>\n",
       "      <td>6.042563</td>\n",
       "      <td>Error</td>\n",
       "    </tr>\n",
       "    <tr>\n",
       "      <th>7</th>\n",
       "      <td>towards data science</td>\n",
       "      <td>1.823078</td>\n",
       "      <td>5.042562</td>\n",
       "      <td>Error</td>\n",
       "    </tr>\n",
       "    <tr>\n",
       "      <th>8</th>\n",
       "      <td>r for data science</td>\n",
       "      <td>1.800001</td>\n",
       "      <td>4.978732</td>\n",
       "      <td>Error</td>\n",
       "    </tr>\n",
       "  </tbody>\n",
       "</table>\n",
       "</div>"
      ],
      "text/plain": [
       "                   index       mean  normalized  relationship\n",
       "0         data scientist  36.153846  100.000128   first level\n",
       "1    master data science  10.673077   29.521315         Error\n",
       "2    python data science   8.811539   24.372372         Error\n",
       "3      data science jobs   5.734616   15.861724         Error\n",
       "4  data scientist gehalt   5.315385   14.702148  second level\n",
       "5   data science studium   3.269231    9.042567         Error\n",
       "6    data science gehalt   2.184616    6.042563         Error\n",
       "7   towards data science   1.823078    5.042562         Error\n",
       "8     r for data science   1.800001    4.978732         Error"
      ]
     },
     "execution_count": 130,
     "metadata": {},
     "output_type": "execute_result"
    }
   ],
   "source": [
    "df_searchterm_ranking = df_to_ranking(byMean, df_result,2)\n",
    "df_searchterm_ranking.head(20)"
   ]
  },
  {
   "cell_type": "code",
   "execution_count": 131,
   "metadata": {
    "hidden": true
   },
   "outputs": [],
   "source": [
    "df_searchtopic_ranking = df_to_ranking(byLastDate, df_result_topics, 1)"
   ]
  },
  {
   "cell_type": "code",
   "execution_count": 132,
   "metadata": {
    "hidden": true
   },
   "outputs": [
    {
     "data": {
      "text/html": [
       "<div>\n",
       "<style scoped>\n",
       "    .dataframe tbody tr th:only-of-type {\n",
       "        vertical-align: middle;\n",
       "    }\n",
       "\n",
       "    .dataframe tbody tr th {\n",
       "        vertical-align: top;\n",
       "    }\n",
       "\n",
       "    .dataframe thead th {\n",
       "        text-align: right;\n",
       "    }\n",
       "</style>\n",
       "<table border=\"1\" class=\"dataframe\">\n",
       "  <thead>\n",
       "    <tr style=\"text-align: right;\">\n",
       "      <th>date</th>\n",
       "      <th>index</th>\n",
       "      <th>2021-12-05 00:00:00</th>\n",
       "      <th>relationship</th>\n",
       "    </tr>\n",
       "  </thead>\n",
       "  <tbody>\n",
       "    <tr>\n",
       "      <th>0</th>\n",
       "      <td>Kurs</td>\n",
       "      <td>9229563.0</td>\n",
       "      <td>both levels</td>\n",
       "    </tr>\n",
       "    <tr>\n",
       "      <th>1</th>\n",
       "      <td>Mainz</td>\n",
       "      <td>5769275.0</td>\n",
       "      <td>second level</td>\n",
       "    </tr>\n",
       "    <tr>\n",
       "      <th>2</th>\n",
       "      <td>Daten</td>\n",
       "      <td>3356205.0</td>\n",
       "      <td>both levels</td>\n",
       "    </tr>\n",
       "    <tr>\n",
       "      <th>3</th>\n",
       "      <td>Funktion</td>\n",
       "      <td>2013723.0</td>\n",
       "      <td>second level</td>\n",
       "    </tr>\n",
       "    <tr>\n",
       "      <th>4</th>\n",
       "      <td>Medizin</td>\n",
       "      <td>1678102.0</td>\n",
       "      <td>second level</td>\n",
       "    </tr>\n",
       "    <tr>\n",
       "      <th>5</th>\n",
       "      <td>Bachelor</td>\n",
       "      <td>914305.0</td>\n",
       "      <td>both levels</td>\n",
       "    </tr>\n",
       "    <tr>\n",
       "      <th>6</th>\n",
       "      <td>Geschäft</td>\n",
       "      <td>576928.0</td>\n",
       "      <td>both levels</td>\n",
       "    </tr>\n",
       "    <tr>\n",
       "      <th>7</th>\n",
       "      <td>Column</td>\n",
       "      <td>261230.0</td>\n",
       "      <td>second level</td>\n",
       "    </tr>\n",
       "    <tr>\n",
       "      <th>8</th>\n",
       "      <td>Technologie</td>\n",
       "      <td>167810.0</td>\n",
       "      <td>second level</td>\n",
       "    </tr>\n",
       "    <tr>\n",
       "      <th>9</th>\n",
       "      <td>Künstliche Intelligenz</td>\n",
       "      <td>130615.0</td>\n",
       "      <td>both levels</td>\n",
       "    </tr>\n",
       "    <tr>\n",
       "      <th>10</th>\n",
       "      <td>Google Analytics</td>\n",
       "      <td>115386.0</td>\n",
       "      <td>second level</td>\n",
       "    </tr>\n",
       "    <tr>\n",
       "      <th>11</th>\n",
       "      <td>good</td>\n",
       "      <td>72.0</td>\n",
       "      <td>second level</td>\n",
       "    </tr>\n",
       "    <tr>\n",
       "      <th>12</th>\n",
       "      <td>Bonn</td>\n",
       "      <td>61.0</td>\n",
       "      <td>second level</td>\n",
       "    </tr>\n",
       "    <tr>\n",
       "      <th>13</th>\n",
       "      <td>SAP</td>\n",
       "      <td>61.0</td>\n",
       "      <td>second level</td>\n",
       "    </tr>\n",
       "    <tr>\n",
       "      <th>14</th>\n",
       "      <td>Webmail</td>\n",
       "      <td>61.0</td>\n",
       "      <td>second level</td>\n",
       "    </tr>\n",
       "    <tr>\n",
       "      <th>15</th>\n",
       "      <td>Brutto</td>\n",
       "      <td>59.0</td>\n",
       "      <td>second level</td>\n",
       "    </tr>\n",
       "    <tr>\n",
       "      <th>16</th>\n",
       "      <td>International</td>\n",
       "      <td>58.0</td>\n",
       "      <td>second level</td>\n",
       "    </tr>\n",
       "    <tr>\n",
       "      <th>17</th>\n",
       "      <td>Liste</td>\n",
       "      <td>54.0</td>\n",
       "      <td>second level</td>\n",
       "    </tr>\n",
       "    <tr>\n",
       "      <th>18</th>\n",
       "      <td>Waschmaschine</td>\n",
       "      <td>54.0</td>\n",
       "      <td>second level</td>\n",
       "    </tr>\n",
       "    <tr>\n",
       "      <th>19</th>\n",
       "      <td>Datei</td>\n",
       "      <td>51.0</td>\n",
       "      <td>second level</td>\n",
       "    </tr>\n",
       "  </tbody>\n",
       "</table>\n",
       "</div>"
      ],
      "text/plain": [
       "date                   index  2021-12-05 00:00:00  relationship\n",
       "0                       Kurs            9229563.0   both levels\n",
       "1                      Mainz            5769275.0  second level\n",
       "2                      Daten            3356205.0   both levels\n",
       "3                   Funktion            2013723.0  second level\n",
       "4                    Medizin            1678102.0  second level\n",
       "5                   Bachelor             914305.0   both levels\n",
       "6                   Geschäft             576928.0   both levels\n",
       "7                     Column             261230.0  second level\n",
       "8                Technologie             167810.0  second level\n",
       "9     Künstliche Intelligenz             130615.0   both levels\n",
       "10          Google Analytics             115386.0  second level\n",
       "11                      good                 72.0  second level\n",
       "12                      Bonn                 61.0  second level\n",
       "13                       SAP                 61.0  second level\n",
       "14                   Webmail                 61.0  second level\n",
       "15                    Brutto                 59.0  second level\n",
       "16             International                 58.0  second level\n",
       "17                     Liste                 54.0  second level\n",
       "18             Waschmaschine                 54.0  second level\n",
       "19                     Datei                 51.0  second level"
      ]
     },
     "execution_count": 132,
     "metadata": {},
     "output_type": "execute_result"
    }
   ],
   "source": [
    "df_searchtopic_ranking.head(20)"
   ]
  },
  {
   "cell_type": "code",
   "execution_count": 133,
   "metadata": {
    "hidden": true
   },
   "outputs": [
    {
     "data": {
      "text/html": [
       "<div>\n",
       "<style scoped>\n",
       "    .dataframe tbody tr th:only-of-type {\n",
       "        vertical-align: middle;\n",
       "    }\n",
       "\n",
       "    .dataframe tbody tr th {\n",
       "        vertical-align: top;\n",
       "    }\n",
       "\n",
       "    .dataframe thead th {\n",
       "        text-align: right;\n",
       "    }\n",
       "</style>\n",
       "<table border=\"1\" class=\"dataframe\">\n",
       "  <thead>\n",
       "    <tr style=\"text-align: right;\">\n",
       "      <th></th>\n",
       "      <th>index</th>\n",
       "      <th>mean</th>\n",
       "      <th>normalized</th>\n",
       "      <th>relationship</th>\n",
       "    </tr>\n",
       "  </thead>\n",
       "  <tbody>\n",
       "    <tr>\n",
       "      <th>0</th>\n",
       "      <td>Mainz</td>\n",
       "      <td>8.074322e+06</td>\n",
       "      <td>100.000000</td>\n",
       "      <td>second level</td>\n",
       "    </tr>\n",
       "    <tr>\n",
       "      <th>1</th>\n",
       "      <td>Kurs</td>\n",
       "      <td>6.281267e+06</td>\n",
       "      <td>77.793110</td>\n",
       "      <td>both levels</td>\n",
       "    </tr>\n",
       "    <tr>\n",
       "      <th>2</th>\n",
       "      <td>Daten</td>\n",
       "      <td>4.474725e+06</td>\n",
       "      <td>55.419198</td>\n",
       "      <td>both levels</td>\n",
       "    </tr>\n",
       "    <tr>\n",
       "      <th>3</th>\n",
       "      <td>Bachelor</td>\n",
       "      <td>2.107423e+06</td>\n",
       "      <td>26.100305</td>\n",
       "      <td>both levels</td>\n",
       "    </tr>\n",
       "    <tr>\n",
       "      <th>4</th>\n",
       "      <td>Funktion</td>\n",
       "      <td>1.944663e+06</td>\n",
       "      <td>24.084529</td>\n",
       "      <td>second level</td>\n",
       "    </tr>\n",
       "    <tr>\n",
       "      <th>5</th>\n",
       "      <td>Medizin</td>\n",
       "      <td>1.864630e+06</td>\n",
       "      <td>23.093331</td>\n",
       "      <td>second level</td>\n",
       "    </tr>\n",
       "    <tr>\n",
       "      <th>6</th>\n",
       "      <td>Geschäft</td>\n",
       "      <td>6.510407e+05</td>\n",
       "      <td>8.063100</td>\n",
       "      <td>both levels</td>\n",
       "    </tr>\n",
       "    <tr>\n",
       "      <th>7</th>\n",
       "      <td>Column</td>\n",
       "      <td>3.943568e+05</td>\n",
       "      <td>4.884086</td>\n",
       "      <td>second level</td>\n",
       "    </tr>\n",
       "    <tr>\n",
       "      <th>8</th>\n",
       "      <td>Google Analytics</td>\n",
       "      <td>2.897954e+05</td>\n",
       "      <td>3.589098</td>\n",
       "      <td>second level</td>\n",
       "    </tr>\n",
       "    <tr>\n",
       "      <th>9</th>\n",
       "      <td>Technologie</td>\n",
       "      <td>1.949178e+05</td>\n",
       "      <td>2.414045</td>\n",
       "      <td>second level</td>\n",
       "    </tr>\n",
       "    <tr>\n",
       "      <th>10</th>\n",
       "      <td>Geringfügige Beschäftigung</td>\n",
       "      <td>1.019768e+05</td>\n",
       "      <td>1.262977</td>\n",
       "      <td>second level</td>\n",
       "    </tr>\n",
       "    <tr>\n",
       "      <th>11</th>\n",
       "      <td>Künstliche Intelligenz</td>\n",
       "      <td>9.544942e+04</td>\n",
       "      <td>1.182135</td>\n",
       "      <td>both levels</td>\n",
       "    </tr>\n",
       "    <tr>\n",
       "      <th>12</th>\n",
       "      <td>Big Data</td>\n",
       "      <td>9.165008e+04</td>\n",
       "      <td>1.135081</td>\n",
       "      <td>both levels</td>\n",
       "    </tr>\n",
       "    <tr>\n",
       "      <th>13</th>\n",
       "      <td>RStudio</td>\n",
       "      <td>2.581692e+03</td>\n",
       "      <td>0.031974</td>\n",
       "      <td>second level</td>\n",
       "    </tr>\n",
       "    <tr>\n",
       "      <th>14</th>\n",
       "      <td>Bonn</td>\n",
       "      <td>8.229615e+01</td>\n",
       "      <td>0.001019</td>\n",
       "      <td>second level</td>\n",
       "    </tr>\n",
       "    <tr>\n",
       "      <th>15</th>\n",
       "      <td>good</td>\n",
       "      <td>7.983846e+01</td>\n",
       "      <td>0.000989</td>\n",
       "      <td>second level</td>\n",
       "    </tr>\n",
       "    <tr>\n",
       "      <th>16</th>\n",
       "      <td>Brutto</td>\n",
       "      <td>7.644615e+01</td>\n",
       "      <td>0.000947</td>\n",
       "      <td>second level</td>\n",
       "    </tr>\n",
       "    <tr>\n",
       "      <th>17</th>\n",
       "      <td>Lernen</td>\n",
       "      <td>7.280385e+01</td>\n",
       "      <td>0.000902</td>\n",
       "      <td>both levels</td>\n",
       "    </tr>\n",
       "    <tr>\n",
       "      <th>18</th>\n",
       "      <td>SAP</td>\n",
       "      <td>6.993077e+01</td>\n",
       "      <td>0.000866</td>\n",
       "      <td>second level</td>\n",
       "    </tr>\n",
       "    <tr>\n",
       "      <th>19</th>\n",
       "      <td>International</td>\n",
       "      <td>6.940385e+01</td>\n",
       "      <td>0.000860</td>\n",
       "      <td>second level</td>\n",
       "    </tr>\n",
       "  </tbody>\n",
       "</table>\n",
       "</div>"
      ],
      "text/plain": [
       "                         index          mean  normalized  relationship\n",
       "0                        Mainz  8.074322e+06  100.000000  second level\n",
       "1                         Kurs  6.281267e+06   77.793110   both levels\n",
       "2                        Daten  4.474725e+06   55.419198   both levels\n",
       "3                     Bachelor  2.107423e+06   26.100305   both levels\n",
       "4                     Funktion  1.944663e+06   24.084529  second level\n",
       "5                      Medizin  1.864630e+06   23.093331  second level\n",
       "6                     Geschäft  6.510407e+05    8.063100   both levels\n",
       "7                       Column  3.943568e+05    4.884086  second level\n",
       "8             Google Analytics  2.897954e+05    3.589098  second level\n",
       "9                  Technologie  1.949178e+05    2.414045  second level\n",
       "10  Geringfügige Beschäftigung  1.019768e+05    1.262977  second level\n",
       "11      Künstliche Intelligenz  9.544942e+04    1.182135   both levels\n",
       "12                    Big Data  9.165008e+04    1.135081   both levels\n",
       "13                     RStudio  2.581692e+03    0.031974  second level\n",
       "14                        Bonn  8.229615e+01    0.001019  second level\n",
       "15                        good  7.983846e+01    0.000989  second level\n",
       "16                      Brutto  7.644615e+01    0.000947  second level\n",
       "17                      Lernen  7.280385e+01    0.000902   both levels\n",
       "18                         SAP  6.993077e+01    0.000866  second level\n",
       "19               International  6.940385e+01    0.000860  second level"
      ]
     },
     "execution_count": 133,
     "metadata": {},
     "output_type": "execute_result"
    }
   ],
   "source": [
    "df_searchtopic_ranking = df_to_ranking(byMean, df_result_topics, 1)\n",
    "df_searchtopic_ranking.head(20)"
   ]
  },
  {
   "cell_type": "markdown",
   "metadata": {
    "heading_collapsed": true,
    "hidden": true
   },
   "source": [
    "### Visualize results"
   ]
  },
  {
   "cell_type": "code",
   "execution_count": 112,
   "metadata": {
    "hidden": true
   },
   "outputs": [],
   "source": [
    "def visualize_ranking(df):\n",
    "    data = df\n",
    "    fig = px.bar(data, x='index', y='mean')\n",
    "    fig.show()"
   ]
  },
  {
   "cell_type": "code",
   "execution_count": 134,
   "metadata": {
    "hidden": true
   },
   "outputs": [
    {
     "data": {
      "application/vnd.plotly.v1+json": {
       "config": {
        "plotlyServerURL": "https://plot.ly"
       },
       "data": [
        {
         "alignmentgroup": "True",
         "hovertemplate": "index=%{x}<br>mean=%{y}<extra></extra>",
         "legendgroup": "",
         "marker": {
          "color": "#636efa",
          "pattern": {
           "shape": ""
          }
         },
         "name": "",
         "offsetgroup": "",
         "orientation": "v",
         "showlegend": false,
         "textposition": "auto",
         "type": "bar",
         "x": [
          "data scientist",
          "master data science",
          "python data science",
          "data science jobs",
          "data scientist gehalt",
          "data science studium",
          "data science gehalt",
          "towards data science",
          "r for data science"
         ],
         "xaxis": "x",
         "y": [
          36.153846165384614,
          10.67307719615385,
          8.811538800000001,
          5.734615907692312,
          5.315385157692312,
          3.269231457692306,
          2.1846161423076906,
          1.8230777346153835,
          1.8000008038461524
         ],
         "yaxis": "y"
        }
       ],
       "layout": {
        "barmode": "relative",
        "legend": {
         "tracegroupgap": 0
        },
        "margin": {
         "t": 60
        },
        "template": {
         "data": {
          "bar": [
           {
            "error_x": {
             "color": "#2a3f5f"
            },
            "error_y": {
             "color": "#2a3f5f"
            },
            "marker": {
             "line": {
              "color": "#E5ECF6",
              "width": 0.5
             },
             "pattern": {
              "fillmode": "overlay",
              "size": 10,
              "solidity": 0.2
             }
            },
            "type": "bar"
           }
          ],
          "barpolar": [
           {
            "marker": {
             "line": {
              "color": "#E5ECF6",
              "width": 0.5
             },
             "pattern": {
              "fillmode": "overlay",
              "size": 10,
              "solidity": 0.2
             }
            },
            "type": "barpolar"
           }
          ],
          "carpet": [
           {
            "aaxis": {
             "endlinecolor": "#2a3f5f",
             "gridcolor": "white",
             "linecolor": "white",
             "minorgridcolor": "white",
             "startlinecolor": "#2a3f5f"
            },
            "baxis": {
             "endlinecolor": "#2a3f5f",
             "gridcolor": "white",
             "linecolor": "white",
             "minorgridcolor": "white",
             "startlinecolor": "#2a3f5f"
            },
            "type": "carpet"
           }
          ],
          "choropleth": [
           {
            "colorbar": {
             "outlinewidth": 0,
             "ticks": ""
            },
            "type": "choropleth"
           }
          ],
          "contour": [
           {
            "colorbar": {
             "outlinewidth": 0,
             "ticks": ""
            },
            "colorscale": [
             [
              0,
              "#0d0887"
             ],
             [
              0.1111111111111111,
              "#46039f"
             ],
             [
              0.2222222222222222,
              "#7201a8"
             ],
             [
              0.3333333333333333,
              "#9c179e"
             ],
             [
              0.4444444444444444,
              "#bd3786"
             ],
             [
              0.5555555555555556,
              "#d8576b"
             ],
             [
              0.6666666666666666,
              "#ed7953"
             ],
             [
              0.7777777777777778,
              "#fb9f3a"
             ],
             [
              0.8888888888888888,
              "#fdca26"
             ],
             [
              1,
              "#f0f921"
             ]
            ],
            "type": "contour"
           }
          ],
          "contourcarpet": [
           {
            "colorbar": {
             "outlinewidth": 0,
             "ticks": ""
            },
            "type": "contourcarpet"
           }
          ],
          "heatmap": [
           {
            "colorbar": {
             "outlinewidth": 0,
             "ticks": ""
            },
            "colorscale": [
             [
              0,
              "#0d0887"
             ],
             [
              0.1111111111111111,
              "#46039f"
             ],
             [
              0.2222222222222222,
              "#7201a8"
             ],
             [
              0.3333333333333333,
              "#9c179e"
             ],
             [
              0.4444444444444444,
              "#bd3786"
             ],
             [
              0.5555555555555556,
              "#d8576b"
             ],
             [
              0.6666666666666666,
              "#ed7953"
             ],
             [
              0.7777777777777778,
              "#fb9f3a"
             ],
             [
              0.8888888888888888,
              "#fdca26"
             ],
             [
              1,
              "#f0f921"
             ]
            ],
            "type": "heatmap"
           }
          ],
          "heatmapgl": [
           {
            "colorbar": {
             "outlinewidth": 0,
             "ticks": ""
            },
            "colorscale": [
             [
              0,
              "#0d0887"
             ],
             [
              0.1111111111111111,
              "#46039f"
             ],
             [
              0.2222222222222222,
              "#7201a8"
             ],
             [
              0.3333333333333333,
              "#9c179e"
             ],
             [
              0.4444444444444444,
              "#bd3786"
             ],
             [
              0.5555555555555556,
              "#d8576b"
             ],
             [
              0.6666666666666666,
              "#ed7953"
             ],
             [
              0.7777777777777778,
              "#fb9f3a"
             ],
             [
              0.8888888888888888,
              "#fdca26"
             ],
             [
              1,
              "#f0f921"
             ]
            ],
            "type": "heatmapgl"
           }
          ],
          "histogram": [
           {
            "marker": {
             "pattern": {
              "fillmode": "overlay",
              "size": 10,
              "solidity": 0.2
             }
            },
            "type": "histogram"
           }
          ],
          "histogram2d": [
           {
            "colorbar": {
             "outlinewidth": 0,
             "ticks": ""
            },
            "colorscale": [
             [
              0,
              "#0d0887"
             ],
             [
              0.1111111111111111,
              "#46039f"
             ],
             [
              0.2222222222222222,
              "#7201a8"
             ],
             [
              0.3333333333333333,
              "#9c179e"
             ],
             [
              0.4444444444444444,
              "#bd3786"
             ],
             [
              0.5555555555555556,
              "#d8576b"
             ],
             [
              0.6666666666666666,
              "#ed7953"
             ],
             [
              0.7777777777777778,
              "#fb9f3a"
             ],
             [
              0.8888888888888888,
              "#fdca26"
             ],
             [
              1,
              "#f0f921"
             ]
            ],
            "type": "histogram2d"
           }
          ],
          "histogram2dcontour": [
           {
            "colorbar": {
             "outlinewidth": 0,
             "ticks": ""
            },
            "colorscale": [
             [
              0,
              "#0d0887"
             ],
             [
              0.1111111111111111,
              "#46039f"
             ],
             [
              0.2222222222222222,
              "#7201a8"
             ],
             [
              0.3333333333333333,
              "#9c179e"
             ],
             [
              0.4444444444444444,
              "#bd3786"
             ],
             [
              0.5555555555555556,
              "#d8576b"
             ],
             [
              0.6666666666666666,
              "#ed7953"
             ],
             [
              0.7777777777777778,
              "#fb9f3a"
             ],
             [
              0.8888888888888888,
              "#fdca26"
             ],
             [
              1,
              "#f0f921"
             ]
            ],
            "type": "histogram2dcontour"
           }
          ],
          "mesh3d": [
           {
            "colorbar": {
             "outlinewidth": 0,
             "ticks": ""
            },
            "type": "mesh3d"
           }
          ],
          "parcoords": [
           {
            "line": {
             "colorbar": {
              "outlinewidth": 0,
              "ticks": ""
             }
            },
            "type": "parcoords"
           }
          ],
          "pie": [
           {
            "automargin": true,
            "type": "pie"
           }
          ],
          "scatter": [
           {
            "marker": {
             "colorbar": {
              "outlinewidth": 0,
              "ticks": ""
             }
            },
            "type": "scatter"
           }
          ],
          "scatter3d": [
           {
            "line": {
             "colorbar": {
              "outlinewidth": 0,
              "ticks": ""
             }
            },
            "marker": {
             "colorbar": {
              "outlinewidth": 0,
              "ticks": ""
             }
            },
            "type": "scatter3d"
           }
          ],
          "scattercarpet": [
           {
            "marker": {
             "colorbar": {
              "outlinewidth": 0,
              "ticks": ""
             }
            },
            "type": "scattercarpet"
           }
          ],
          "scattergeo": [
           {
            "marker": {
             "colorbar": {
              "outlinewidth": 0,
              "ticks": ""
             }
            },
            "type": "scattergeo"
           }
          ],
          "scattergl": [
           {
            "marker": {
             "colorbar": {
              "outlinewidth": 0,
              "ticks": ""
             }
            },
            "type": "scattergl"
           }
          ],
          "scattermapbox": [
           {
            "marker": {
             "colorbar": {
              "outlinewidth": 0,
              "ticks": ""
             }
            },
            "type": "scattermapbox"
           }
          ],
          "scatterpolar": [
           {
            "marker": {
             "colorbar": {
              "outlinewidth": 0,
              "ticks": ""
             }
            },
            "type": "scatterpolar"
           }
          ],
          "scatterpolargl": [
           {
            "marker": {
             "colorbar": {
              "outlinewidth": 0,
              "ticks": ""
             }
            },
            "type": "scatterpolargl"
           }
          ],
          "scatterternary": [
           {
            "marker": {
             "colorbar": {
              "outlinewidth": 0,
              "ticks": ""
             }
            },
            "type": "scatterternary"
           }
          ],
          "surface": [
           {
            "colorbar": {
             "outlinewidth": 0,
             "ticks": ""
            },
            "colorscale": [
             [
              0,
              "#0d0887"
             ],
             [
              0.1111111111111111,
              "#46039f"
             ],
             [
              0.2222222222222222,
              "#7201a8"
             ],
             [
              0.3333333333333333,
              "#9c179e"
             ],
             [
              0.4444444444444444,
              "#bd3786"
             ],
             [
              0.5555555555555556,
              "#d8576b"
             ],
             [
              0.6666666666666666,
              "#ed7953"
             ],
             [
              0.7777777777777778,
              "#fb9f3a"
             ],
             [
              0.8888888888888888,
              "#fdca26"
             ],
             [
              1,
              "#f0f921"
             ]
            ],
            "type": "surface"
           }
          ],
          "table": [
           {
            "cells": {
             "fill": {
              "color": "#EBF0F8"
             },
             "line": {
              "color": "white"
             }
            },
            "header": {
             "fill": {
              "color": "#C8D4E3"
             },
             "line": {
              "color": "white"
             }
            },
            "type": "table"
           }
          ]
         },
         "layout": {
          "annotationdefaults": {
           "arrowcolor": "#2a3f5f",
           "arrowhead": 0,
           "arrowwidth": 1
          },
          "autotypenumbers": "strict",
          "coloraxis": {
           "colorbar": {
            "outlinewidth": 0,
            "ticks": ""
           }
          },
          "colorscale": {
           "diverging": [
            [
             0,
             "#8e0152"
            ],
            [
             0.1,
             "#c51b7d"
            ],
            [
             0.2,
             "#de77ae"
            ],
            [
             0.3,
             "#f1b6da"
            ],
            [
             0.4,
             "#fde0ef"
            ],
            [
             0.5,
             "#f7f7f7"
            ],
            [
             0.6,
             "#e6f5d0"
            ],
            [
             0.7,
             "#b8e186"
            ],
            [
             0.8,
             "#7fbc41"
            ],
            [
             0.9,
             "#4d9221"
            ],
            [
             1,
             "#276419"
            ]
           ],
           "sequential": [
            [
             0,
             "#0d0887"
            ],
            [
             0.1111111111111111,
             "#46039f"
            ],
            [
             0.2222222222222222,
             "#7201a8"
            ],
            [
             0.3333333333333333,
             "#9c179e"
            ],
            [
             0.4444444444444444,
             "#bd3786"
            ],
            [
             0.5555555555555556,
             "#d8576b"
            ],
            [
             0.6666666666666666,
             "#ed7953"
            ],
            [
             0.7777777777777778,
             "#fb9f3a"
            ],
            [
             0.8888888888888888,
             "#fdca26"
            ],
            [
             1,
             "#f0f921"
            ]
           ],
           "sequentialminus": [
            [
             0,
             "#0d0887"
            ],
            [
             0.1111111111111111,
             "#46039f"
            ],
            [
             0.2222222222222222,
             "#7201a8"
            ],
            [
             0.3333333333333333,
             "#9c179e"
            ],
            [
             0.4444444444444444,
             "#bd3786"
            ],
            [
             0.5555555555555556,
             "#d8576b"
            ],
            [
             0.6666666666666666,
             "#ed7953"
            ],
            [
             0.7777777777777778,
             "#fb9f3a"
            ],
            [
             0.8888888888888888,
             "#fdca26"
            ],
            [
             1,
             "#f0f921"
            ]
           ]
          },
          "colorway": [
           "#636efa",
           "#EF553B",
           "#00cc96",
           "#ab63fa",
           "#FFA15A",
           "#19d3f3",
           "#FF6692",
           "#B6E880",
           "#FF97FF",
           "#FECB52"
          ],
          "font": {
           "color": "#2a3f5f"
          },
          "geo": {
           "bgcolor": "white",
           "lakecolor": "white",
           "landcolor": "#E5ECF6",
           "showlakes": true,
           "showland": true,
           "subunitcolor": "white"
          },
          "hoverlabel": {
           "align": "left"
          },
          "hovermode": "closest",
          "mapbox": {
           "style": "light"
          },
          "paper_bgcolor": "white",
          "plot_bgcolor": "#E5ECF6",
          "polar": {
           "angularaxis": {
            "gridcolor": "white",
            "linecolor": "white",
            "ticks": ""
           },
           "bgcolor": "#E5ECF6",
           "radialaxis": {
            "gridcolor": "white",
            "linecolor": "white",
            "ticks": ""
           }
          },
          "scene": {
           "xaxis": {
            "backgroundcolor": "#E5ECF6",
            "gridcolor": "white",
            "gridwidth": 2,
            "linecolor": "white",
            "showbackground": true,
            "ticks": "",
            "zerolinecolor": "white"
           },
           "yaxis": {
            "backgroundcolor": "#E5ECF6",
            "gridcolor": "white",
            "gridwidth": 2,
            "linecolor": "white",
            "showbackground": true,
            "ticks": "",
            "zerolinecolor": "white"
           },
           "zaxis": {
            "backgroundcolor": "#E5ECF6",
            "gridcolor": "white",
            "gridwidth": 2,
            "linecolor": "white",
            "showbackground": true,
            "ticks": "",
            "zerolinecolor": "white"
           }
          },
          "shapedefaults": {
           "line": {
            "color": "#2a3f5f"
           }
          },
          "ternary": {
           "aaxis": {
            "gridcolor": "white",
            "linecolor": "white",
            "ticks": ""
           },
           "baxis": {
            "gridcolor": "white",
            "linecolor": "white",
            "ticks": ""
           },
           "bgcolor": "#E5ECF6",
           "caxis": {
            "gridcolor": "white",
            "linecolor": "white",
            "ticks": ""
           }
          },
          "title": {
           "x": 0.05
          },
          "xaxis": {
           "automargin": true,
           "gridcolor": "white",
           "linecolor": "white",
           "ticks": "",
           "title": {
            "standoff": 15
           },
           "zerolinecolor": "white",
           "zerolinewidth": 2
          },
          "yaxis": {
           "automargin": true,
           "gridcolor": "white",
           "linecolor": "white",
           "ticks": "",
           "title": {
            "standoff": 15
           },
           "zerolinecolor": "white",
           "zerolinewidth": 2
          }
         }
        },
        "xaxis": {
         "anchor": "y",
         "domain": [
          0,
          1
         ],
         "title": {
          "text": "index"
         }
        },
        "yaxis": {
         "anchor": "x",
         "domain": [
          0,
          1
         ],
         "title": {
          "text": "mean"
         }
        }
       }
      },
      "text/html": [
       "<div>                            <div id=\"c058fc24-6660-45ae-a83b-82114d93f74d\" class=\"plotly-graph-div\" style=\"height:525px; width:100%;\"></div>            <script type=\"text/javascript\">                require([\"plotly\"], function(Plotly) {                    window.PLOTLYENV=window.PLOTLYENV || {};                                    if (document.getElementById(\"c058fc24-6660-45ae-a83b-82114d93f74d\")) {                    Plotly.newPlot(                        \"c058fc24-6660-45ae-a83b-82114d93f74d\",                        [{\"alignmentgroup\":\"True\",\"hovertemplate\":\"index=%{x}<br>mean=%{y}<extra></extra>\",\"legendgroup\":\"\",\"marker\":{\"color\":\"#636efa\",\"pattern\":{\"shape\":\"\"}},\"name\":\"\",\"offsetgroup\":\"\",\"orientation\":\"v\",\"showlegend\":false,\"textposition\":\"auto\",\"type\":\"bar\",\"x\":[\"data scientist\",\"master data science\",\"python data science\",\"data science jobs\",\"data scientist gehalt\",\"data science studium\",\"data science gehalt\",\"towards data science\",\"r for data science\"],\"xaxis\":\"x\",\"y\":[36.153846165384614,10.67307719615385,8.811538800000001,5.734615907692312,5.315385157692312,3.269231457692306,2.1846161423076906,1.8230777346153835,1.8000008038461524],\"yaxis\":\"y\"}],                        {\"barmode\":\"relative\",\"legend\":{\"tracegroupgap\":0},\"margin\":{\"t\":60},\"template\":{\"data\":{\"bar\":[{\"error_x\":{\"color\":\"#2a3f5f\"},\"error_y\":{\"color\":\"#2a3f5f\"},\"marker\":{\"line\":{\"color\":\"#E5ECF6\",\"width\":0.5},\"pattern\":{\"fillmode\":\"overlay\",\"size\":10,\"solidity\":0.2}},\"type\":\"bar\"}],\"barpolar\":[{\"marker\":{\"line\":{\"color\":\"#E5ECF6\",\"width\":0.5},\"pattern\":{\"fillmode\":\"overlay\",\"size\":10,\"solidity\":0.2}},\"type\":\"barpolar\"}],\"carpet\":[{\"aaxis\":{\"endlinecolor\":\"#2a3f5f\",\"gridcolor\":\"white\",\"linecolor\":\"white\",\"minorgridcolor\":\"white\",\"startlinecolor\":\"#2a3f5f\"},\"baxis\":{\"endlinecolor\":\"#2a3f5f\",\"gridcolor\":\"white\",\"linecolor\":\"white\",\"minorgridcolor\":\"white\",\"startlinecolor\":\"#2a3f5f\"},\"type\":\"carpet\"}],\"choropleth\":[{\"colorbar\":{\"outlinewidth\":0,\"ticks\":\"\"},\"type\":\"choropleth\"}],\"contour\":[{\"colorbar\":{\"outlinewidth\":0,\"ticks\":\"\"},\"colorscale\":[[0.0,\"#0d0887\"],[0.1111111111111111,\"#46039f\"],[0.2222222222222222,\"#7201a8\"],[0.3333333333333333,\"#9c179e\"],[0.4444444444444444,\"#bd3786\"],[0.5555555555555556,\"#d8576b\"],[0.6666666666666666,\"#ed7953\"],[0.7777777777777778,\"#fb9f3a\"],[0.8888888888888888,\"#fdca26\"],[1.0,\"#f0f921\"]],\"type\":\"contour\"}],\"contourcarpet\":[{\"colorbar\":{\"outlinewidth\":0,\"ticks\":\"\"},\"type\":\"contourcarpet\"}],\"heatmap\":[{\"colorbar\":{\"outlinewidth\":0,\"ticks\":\"\"},\"colorscale\":[[0.0,\"#0d0887\"],[0.1111111111111111,\"#46039f\"],[0.2222222222222222,\"#7201a8\"],[0.3333333333333333,\"#9c179e\"],[0.4444444444444444,\"#bd3786\"],[0.5555555555555556,\"#d8576b\"],[0.6666666666666666,\"#ed7953\"],[0.7777777777777778,\"#fb9f3a\"],[0.8888888888888888,\"#fdca26\"],[1.0,\"#f0f921\"]],\"type\":\"heatmap\"}],\"heatmapgl\":[{\"colorbar\":{\"outlinewidth\":0,\"ticks\":\"\"},\"colorscale\":[[0.0,\"#0d0887\"],[0.1111111111111111,\"#46039f\"],[0.2222222222222222,\"#7201a8\"],[0.3333333333333333,\"#9c179e\"],[0.4444444444444444,\"#bd3786\"],[0.5555555555555556,\"#d8576b\"],[0.6666666666666666,\"#ed7953\"],[0.7777777777777778,\"#fb9f3a\"],[0.8888888888888888,\"#fdca26\"],[1.0,\"#f0f921\"]],\"type\":\"heatmapgl\"}],\"histogram\":[{\"marker\":{\"pattern\":{\"fillmode\":\"overlay\",\"size\":10,\"solidity\":0.2}},\"type\":\"histogram\"}],\"histogram2d\":[{\"colorbar\":{\"outlinewidth\":0,\"ticks\":\"\"},\"colorscale\":[[0.0,\"#0d0887\"],[0.1111111111111111,\"#46039f\"],[0.2222222222222222,\"#7201a8\"],[0.3333333333333333,\"#9c179e\"],[0.4444444444444444,\"#bd3786\"],[0.5555555555555556,\"#d8576b\"],[0.6666666666666666,\"#ed7953\"],[0.7777777777777778,\"#fb9f3a\"],[0.8888888888888888,\"#fdca26\"],[1.0,\"#f0f921\"]],\"type\":\"histogram2d\"}],\"histogram2dcontour\":[{\"colorbar\":{\"outlinewidth\":0,\"ticks\":\"\"},\"colorscale\":[[0.0,\"#0d0887\"],[0.1111111111111111,\"#46039f\"],[0.2222222222222222,\"#7201a8\"],[0.3333333333333333,\"#9c179e\"],[0.4444444444444444,\"#bd3786\"],[0.5555555555555556,\"#d8576b\"],[0.6666666666666666,\"#ed7953\"],[0.7777777777777778,\"#fb9f3a\"],[0.8888888888888888,\"#fdca26\"],[1.0,\"#f0f921\"]],\"type\":\"histogram2dcontour\"}],\"mesh3d\":[{\"colorbar\":{\"outlinewidth\":0,\"ticks\":\"\"},\"type\":\"mesh3d\"}],\"parcoords\":[{\"line\":{\"colorbar\":{\"outlinewidth\":0,\"ticks\":\"\"}},\"type\":\"parcoords\"}],\"pie\":[{\"automargin\":true,\"type\":\"pie\"}],\"scatter\":[{\"marker\":{\"colorbar\":{\"outlinewidth\":0,\"ticks\":\"\"}},\"type\":\"scatter\"}],\"scatter3d\":[{\"line\":{\"colorbar\":{\"outlinewidth\":0,\"ticks\":\"\"}},\"marker\":{\"colorbar\":{\"outlinewidth\":0,\"ticks\":\"\"}},\"type\":\"scatter3d\"}],\"scattercarpet\":[{\"marker\":{\"colorbar\":{\"outlinewidth\":0,\"ticks\":\"\"}},\"type\":\"scattercarpet\"}],\"scattergeo\":[{\"marker\":{\"colorbar\":{\"outlinewidth\":0,\"ticks\":\"\"}},\"type\":\"scattergeo\"}],\"scattergl\":[{\"marker\":{\"colorbar\":{\"outlinewidth\":0,\"ticks\":\"\"}},\"type\":\"scattergl\"}],\"scattermapbox\":[{\"marker\":{\"colorbar\":{\"outlinewidth\":0,\"ticks\":\"\"}},\"type\":\"scattermapbox\"}],\"scatterpolar\":[{\"marker\":{\"colorbar\":{\"outlinewidth\":0,\"ticks\":\"\"}},\"type\":\"scatterpolar\"}],\"scatterpolargl\":[{\"marker\":{\"colorbar\":{\"outlinewidth\":0,\"ticks\":\"\"}},\"type\":\"scatterpolargl\"}],\"scatterternary\":[{\"marker\":{\"colorbar\":{\"outlinewidth\":0,\"ticks\":\"\"}},\"type\":\"scatterternary\"}],\"surface\":[{\"colorbar\":{\"outlinewidth\":0,\"ticks\":\"\"},\"colorscale\":[[0.0,\"#0d0887\"],[0.1111111111111111,\"#46039f\"],[0.2222222222222222,\"#7201a8\"],[0.3333333333333333,\"#9c179e\"],[0.4444444444444444,\"#bd3786\"],[0.5555555555555556,\"#d8576b\"],[0.6666666666666666,\"#ed7953\"],[0.7777777777777778,\"#fb9f3a\"],[0.8888888888888888,\"#fdca26\"],[1.0,\"#f0f921\"]],\"type\":\"surface\"}],\"table\":[{\"cells\":{\"fill\":{\"color\":\"#EBF0F8\"},\"line\":{\"color\":\"white\"}},\"header\":{\"fill\":{\"color\":\"#C8D4E3\"},\"line\":{\"color\":\"white\"}},\"type\":\"table\"}]},\"layout\":{\"annotationdefaults\":{\"arrowcolor\":\"#2a3f5f\",\"arrowhead\":0,\"arrowwidth\":1},\"autotypenumbers\":\"strict\",\"coloraxis\":{\"colorbar\":{\"outlinewidth\":0,\"ticks\":\"\"}},\"colorscale\":{\"diverging\":[[0,\"#8e0152\"],[0.1,\"#c51b7d\"],[0.2,\"#de77ae\"],[0.3,\"#f1b6da\"],[0.4,\"#fde0ef\"],[0.5,\"#f7f7f7\"],[0.6,\"#e6f5d0\"],[0.7,\"#b8e186\"],[0.8,\"#7fbc41\"],[0.9,\"#4d9221\"],[1,\"#276419\"]],\"sequential\":[[0.0,\"#0d0887\"],[0.1111111111111111,\"#46039f\"],[0.2222222222222222,\"#7201a8\"],[0.3333333333333333,\"#9c179e\"],[0.4444444444444444,\"#bd3786\"],[0.5555555555555556,\"#d8576b\"],[0.6666666666666666,\"#ed7953\"],[0.7777777777777778,\"#fb9f3a\"],[0.8888888888888888,\"#fdca26\"],[1.0,\"#f0f921\"]],\"sequentialminus\":[[0.0,\"#0d0887\"],[0.1111111111111111,\"#46039f\"],[0.2222222222222222,\"#7201a8\"],[0.3333333333333333,\"#9c179e\"],[0.4444444444444444,\"#bd3786\"],[0.5555555555555556,\"#d8576b\"],[0.6666666666666666,\"#ed7953\"],[0.7777777777777778,\"#fb9f3a\"],[0.8888888888888888,\"#fdca26\"],[1.0,\"#f0f921\"]]},\"colorway\":[\"#636efa\",\"#EF553B\",\"#00cc96\",\"#ab63fa\",\"#FFA15A\",\"#19d3f3\",\"#FF6692\",\"#B6E880\",\"#FF97FF\",\"#FECB52\"],\"font\":{\"color\":\"#2a3f5f\"},\"geo\":{\"bgcolor\":\"white\",\"lakecolor\":\"white\",\"landcolor\":\"#E5ECF6\",\"showlakes\":true,\"showland\":true,\"subunitcolor\":\"white\"},\"hoverlabel\":{\"align\":\"left\"},\"hovermode\":\"closest\",\"mapbox\":{\"style\":\"light\"},\"paper_bgcolor\":\"white\",\"plot_bgcolor\":\"#E5ECF6\",\"polar\":{\"angularaxis\":{\"gridcolor\":\"white\",\"linecolor\":\"white\",\"ticks\":\"\"},\"bgcolor\":\"#E5ECF6\",\"radialaxis\":{\"gridcolor\":\"white\",\"linecolor\":\"white\",\"ticks\":\"\"}},\"scene\":{\"xaxis\":{\"backgroundcolor\":\"#E5ECF6\",\"gridcolor\":\"white\",\"gridwidth\":2,\"linecolor\":\"white\",\"showbackground\":true,\"ticks\":\"\",\"zerolinecolor\":\"white\"},\"yaxis\":{\"backgroundcolor\":\"#E5ECF6\",\"gridcolor\":\"white\",\"gridwidth\":2,\"linecolor\":\"white\",\"showbackground\":true,\"ticks\":\"\",\"zerolinecolor\":\"white\"},\"zaxis\":{\"backgroundcolor\":\"#E5ECF6\",\"gridcolor\":\"white\",\"gridwidth\":2,\"linecolor\":\"white\",\"showbackground\":true,\"ticks\":\"\",\"zerolinecolor\":\"white\"}},\"shapedefaults\":{\"line\":{\"color\":\"#2a3f5f\"}},\"ternary\":{\"aaxis\":{\"gridcolor\":\"white\",\"linecolor\":\"white\",\"ticks\":\"\"},\"baxis\":{\"gridcolor\":\"white\",\"linecolor\":\"white\",\"ticks\":\"\"},\"bgcolor\":\"#E5ECF6\",\"caxis\":{\"gridcolor\":\"white\",\"linecolor\":\"white\",\"ticks\":\"\"}},\"title\":{\"x\":0.05},\"xaxis\":{\"automargin\":true,\"gridcolor\":\"white\",\"linecolor\":\"white\",\"ticks\":\"\",\"title\":{\"standoff\":15},\"zerolinecolor\":\"white\",\"zerolinewidth\":2},\"yaxis\":{\"automargin\":true,\"gridcolor\":\"white\",\"linecolor\":\"white\",\"ticks\":\"\",\"title\":{\"standoff\":15},\"zerolinecolor\":\"white\",\"zerolinewidth\":2}}},\"xaxis\":{\"anchor\":\"y\",\"domain\":[0.0,1.0],\"title\":{\"text\":\"index\"}},\"yaxis\":{\"anchor\":\"x\",\"domain\":[0.0,1.0],\"title\":{\"text\":\"mean\"}}},                        {\"responsive\": true}                    ).then(function(){\n",
       "                            \n",
       "var gd = document.getElementById('c058fc24-6660-45ae-a83b-82114d93f74d');\n",
       "var x = new MutationObserver(function (mutations, observer) {{\n",
       "        var display = window.getComputedStyle(gd).display;\n",
       "        if (!display || display === 'none') {{\n",
       "            console.log([gd, 'removed!']);\n",
       "            Plotly.purge(gd);\n",
       "            observer.disconnect();\n",
       "        }}\n",
       "}});\n",
       "\n",
       "// Listen for the removal of the full notebook cells\n",
       "var notebookContainer = gd.closest('#notebook-container');\n",
       "if (notebookContainer) {{\n",
       "    x.observe(notebookContainer, {childList: true});\n",
       "}}\n",
       "\n",
       "// Listen for the clearing of the current output cell\n",
       "var outputEl = gd.closest('.output');\n",
       "if (outputEl) {{\n",
       "    x.observe(outputEl, {childList: true});\n",
       "}}\n",
       "\n",
       "                        })                };                });            </script>        </div>"
      ]
     },
     "metadata": {},
     "output_type": "display_data"
    }
   ],
   "source": [
    "visualize_ranking(df_searchterm_ranking.head(20))"
   ]
  },
  {
   "cell_type": "code",
   "execution_count": null,
   "metadata": {
    "hidden": true
   },
   "outputs": [],
   "source": []
  }
 ],
 "metadata": {
  "kernelspec": {
   "display_name": "Python 3",
   "language": "python",
   "name": "python3"
  },
  "language_info": {
   "codemirror_mode": {
    "name": "ipython",
    "version": 3
   },
   "file_extension": ".py",
   "mimetype": "text/x-python",
   "name": "python",
   "nbconvert_exporter": "python",
   "pygments_lexer": "ipython3",
   "version": "3.8.8"
  }
 },
 "nbformat": 4,
 "nbformat_minor": 2
}
